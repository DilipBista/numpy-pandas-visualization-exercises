{
 "cells": [
  {
   "cell_type": "code",
   "execution_count": 1,
   "id": "5e28c6e9",
   "metadata": {},
   "outputs": [],
   "source": [
    "import numpy as np "
   ]
  },
  {
   "cell_type": "code",
   "execution_count": 2,
   "id": "d02c72cf",
   "metadata": {},
   "outputs": [],
   "source": [
    "a= np.array([4,10,12,23,-2,1,0,0,0,-6,3,-7])"
   ]
  },
  {
   "cell_type": "code",
   "execution_count": 3,
   "id": "3c3a2399",
   "metadata": {},
   "outputs": [
    {
     "data": {
      "text/plain": [
       "array([ 4, 10, 12, 23, -2,  1,  0,  0,  0, -6,  3, -7])"
      ]
     },
     "execution_count": 3,
     "metadata": {},
     "output_type": "execute_result"
    }
   ],
   "source": [
    "a"
   ]
  },
  {
   "cell_type": "code",
   "execution_count": null,
   "id": "59e25614",
   "metadata": {},
   "outputs": [],
   "source": [
    "'''1.  How many negative numbers are there?'''"
   ]
  },
  {
   "cell_type": "code",
   "execution_count": 7,
   "id": "071bdd1a",
   "metadata": {},
   "outputs": [
    {
     "data": {
      "text/plain": [
       "array([-2, -6, -7])"
      ]
     },
     "execution_count": 7,
     "metadata": {},
     "output_type": "execute_result"
    }
   ],
   "source": [
    "a[a < 0]\n"
   ]
  },
  {
   "cell_type": "code",
   "execution_count": null,
   "id": "295a14fb",
   "metadata": {},
   "outputs": [],
   "source": [
    "''' 2.  How many positive numbers are there? '''"
   ]
  },
  {
   "cell_type": "code",
   "execution_count": 11,
   "id": "0defdd8a",
   "metadata": {},
   "outputs": [
    {
     "data": {
      "text/plain": [
       "6"
      ]
     },
     "execution_count": 11,
     "metadata": {},
     "output_type": "execute_result"
    }
   ],
   "source": [
    "b = a[a >0]\n",
    "b\n",
    "len(b)"
   ]
  },
  {
   "cell_type": "code",
   "execution_count": null,
   "id": "c28c2130",
   "metadata": {},
   "outputs": [],
   "source": [
    "''' 3. How many even positive numbers are there?'''"
   ]
  },
  {
   "cell_type": "code",
   "execution_count": 20,
   "id": "4ab0dadc",
   "metadata": {},
   "outputs": [
    {
     "data": {
      "text/plain": [
       "3"
      ]
     },
     "execution_count": 20,
     "metadata": {},
     "output_type": "execute_result"
    }
   ],
   "source": [
    "c = a[(a > 0) & (a% 2== 0)]\n",
    "c\n",
    "len(c)"
   ]
  },
  {
   "cell_type": "code",
   "execution_count": null,
   "id": "b0a0cf6b",
   "metadata": {},
   "outputs": [],
   "source": [
    "''' 4.  If you were to add 3 to each data point, how many positive numbers would there be?'''"
   ]
  },
  {
   "cell_type": "code",
   "execution_count": 29,
   "id": "6ed4c56a",
   "metadata": {},
   "outputs": [
    {
     "data": {
      "text/plain": [
       "array([ 7, 13, 15, 26,  1,  4,  3,  3,  3,  6])"
      ]
     },
     "execution_count": 29,
     "metadata": {},
     "output_type": "execute_result"
    }
   ],
   "source": [
    "ad3 = a+3\n",
    "ad3\n",
    "\n",
    "ad3[ad3 > 0]\n"
   ]
  },
  {
   "cell_type": "code",
   "execution_count": null,
   "id": "d0cbc793",
   "metadata": {},
   "outputs": [],
   "source": [
    "''' 5.  If you squared each number, what would the new mean and standard deviation be?'''"
   ]
  },
  {
   "cell_type": "code",
   "execution_count": 31,
   "id": "d2593308",
   "metadata": {},
   "outputs": [
    {
     "data": {
      "text/plain": [
       "array([ 16, 100, 144, 529,   4,   1,   0,   0,   0,  36,   9,  49])"
      ]
     },
     "execution_count": 31,
     "metadata": {},
     "output_type": "execute_result"
    }
   ],
   "source": [
    "square = a**2 \n",
    "square "
   ]
  },
  {
   "cell_type": "code",
   "execution_count": 35,
   "id": "4ce7dd9e",
   "metadata": {},
   "outputs": [
    {
     "data": {
      "text/plain": [
       "74.0"
      ]
     },
     "execution_count": 35,
     "metadata": {},
     "output_type": "execute_result"
    }
   ],
   "source": [
    "sm = square.mean()\n",
    "sm"
   ]
  },
  {
   "cell_type": "code",
   "execution_count": 36,
   "id": "3c368349",
   "metadata": {},
   "outputs": [
    {
     "data": {
      "text/plain": [
       "144.0243035046516"
      ]
     },
     "execution_count": 36,
     "metadata": {},
     "output_type": "execute_result"
    }
   ],
   "source": [
    "sstd= square.std()\n",
    "sstd "
   ]
  },
  {
   "cell_type": "code",
   "execution_count": null,
   "id": "b5adce1a",
   "metadata": {},
   "outputs": [],
   "source": [
    "''' 6. A common statistical operation on a dataset is centering. \n",
    "This means to adjust the data such that the mean of the data is 0. \n",
    "This is done by subtracting the mean from each data point. \n",
    "Center the data set. See this link for more on centering.'''"
   ]
  },
  {
   "cell_type": "code",
   "execution_count": 43,
   "id": "77af876b",
   "metadata": {},
   "outputs": [
    {
     "data": {
      "text/plain": [
       "-1.4802973661668753e-16"
      ]
     },
     "execution_count": 43,
     "metadata": {},
     "output_type": "execute_result"
    }
   ],
   "source": [
    "centered = a- a.mean()\n",
    "centered.mean()"
   ]
  },
  {
   "cell_type": "code",
   "execution_count": 45,
   "id": "54d48e50",
   "metadata": {},
   "outputs": [
    {
     "data": {
      "text/plain": [
       "array([ 0.10418928,  0.85435209,  1.10440636,  2.47970486, -0.64597353,\n",
       "       -0.27089213, -0.39591926, -0.39591926, -0.39591926, -1.14608208,\n",
       "       -0.02083786, -1.27110921])"
      ]
     },
     "execution_count": 45,
     "metadata": {},
     "output_type": "execute_result"
    }
   ],
   "source": [
    "''' \n",
    " 7. Calculate the z-score for each data point. Recall that the z-score is given by:\n",
    "\n",
    "Z = (x − μ) / σ\n",
    "\n",
    "'''\n",
    "\n",
    "z = (a- a.mean())/ a.std()\n",
    "z"
   ]
  },
  {
   "cell_type": "code",
   "execution_count": null,
   "id": "0a734a67",
   "metadata": {},
   "outputs": [],
   "source": []
  },
  {
   "cell_type": "code",
   "execution_count": null,
   "id": "55f1ed35",
   "metadata": {},
   "outputs": [],
   "source": []
  },
  {
   "cell_type": "code",
   "execution_count": null,
   "id": "082aee62",
   "metadata": {},
   "outputs": [],
   "source": []
  }
 ],
 "metadata": {
  "kernelspec": {
   "display_name": "Python 3",
   "language": "python",
   "name": "python3"
  },
  "language_info": {
   "codemirror_mode": {
    "name": "ipython",
    "version": 3
   },
   "file_extension": ".py",
   "mimetype": "text/x-python",
   "name": "python",
   "nbconvert_exporter": "python",
   "pygments_lexer": "ipython3",
   "version": "3.8.8"
  }
 },
 "nbformat": 4,
 "nbformat_minor": 5
}
