{
 "cells": [
  {
   "cell_type": "code",
   "execution_count": 31,
   "id": "106b792b",
   "metadata": {},
   "outputs": [],
   "source": [
    "import numpy as np\n",
    "# Life w/o numpy to life with numpy\n",
    "import math\n",
    "\n",
    "## Setup 1\n",
    "a = [1, 2, 3, 4, 5, 6, 7, 8, 9, 10]"
   ]
  },
  {
   "cell_type": "markdown",
   "id": "3f26c125",
   "metadata": {},
   "source": [
    "# Use python's built in functionality/operators to determine the following:"
   ]
  },
  {
   "cell_type": "code",
   "execution_count": null,
   "id": "3e635b17",
   "metadata": {},
   "outputs": [],
   "source": [
    "''' \n",
    "# Exercise 1 - Make a variable called sum_of_a to hold the sum of all the numbers in above list'''"
   ]
  },
  {
   "cell_type": "code",
   "execution_count": 9,
   "id": "d8450267",
   "metadata": {},
   "outputs": [
    {
     "name": "stdout",
     "output_type": "stream",
     "text": [
      "sum of a:  [55]\n"
     ]
    }
   ],
   "source": [
    "sum_of_a = [sum(a)]\n",
    "print('sum of a: ', sum_of_a)"
   ]
  },
  {
   "cell_type": "code",
   "execution_count": null,
   "id": "c8cc16b7",
   "metadata": {},
   "outputs": [],
   "source": [
    "'''# Exercise 2 - Make a variable named min_of_a to hold the minimum of all the numbers in the above list '''"
   ]
  },
  {
   "cell_type": "code",
   "execution_count": 11,
   "id": "019a2e18",
   "metadata": {},
   "outputs": [
    {
     "name": "stdout",
     "output_type": "stream",
     "text": [
      "1\n"
     ]
    }
   ],
   "source": [
    "min_of_a = min(a)\n",
    "print(min_of_a)"
   ]
  },
  {
   "cell_type": "code",
   "execution_count": null,
   "id": "980fc4fd",
   "metadata": {},
   "outputs": [],
   "source": [
    "'''# Exercise 3 - Make a variable named max_of_a to hold the max number of all the numbers in the above list  '''"
   ]
  },
  {
   "cell_type": "code",
   "execution_count": 13,
   "id": "457be569",
   "metadata": {},
   "outputs": [
    {
     "name": "stdout",
     "output_type": "stream",
     "text": [
      "10\n"
     ]
    }
   ],
   "source": [
    "max_of_a = max(a)\n",
    "print(max_of_a)"
   ]
  },
  {
   "cell_type": "code",
   "execution_count": null,
   "id": "2acfdecc",
   "metadata": {},
   "outputs": [],
   "source": [
    "''' # Exercise 4 - Make a variable named mean_of_a to hold the average of all the numbers in the above list'''"
   ]
  },
  {
   "cell_type": "code",
   "execution_count": 19,
   "id": "4059886c",
   "metadata": {},
   "outputs": [
    {
     "name": "stdout",
     "output_type": "stream",
     "text": [
      "5.5\n"
     ]
    }
   ],
   "source": [
    "mean_of_a = np.mean(a)\n",
    "print(mean_of_a)"
   ]
  },
  {
   "cell_type": "code",
   "execution_count": null,
   "id": "3dde9344",
   "metadata": {},
   "outputs": [],
   "source": [
    "''' # Exercise 5 - Make a variable named product_of_a to hold the product of multiplying all the numbers in the above list together'''"
   ]
  },
  {
   "cell_type": "code",
   "execution_count": 23,
   "id": "08ff1261",
   "metadata": {},
   "outputs": [
    {
     "name": "stdout",
     "output_type": "stream",
     "text": [
      "3628800\n"
     ]
    }
   ],
   "source": [
    "product_of_a = np.prod(a)\n",
    "print(product_of_a)"
   ]
  },
  {
   "cell_type": "code",
   "execution_count": null,
   "id": "44551ae4",
   "metadata": {},
   "outputs": [],
   "source": [
    "''' # Exercise 6 - Make a variable named squares_of_a. It should hold each number in a squared like [1, 4, 9, 16, 25...]'''"
   ]
  },
  {
   "cell_type": "code",
   "execution_count": 46,
   "id": "d216f5ac",
   "metadata": {},
   "outputs": [
    {
     "name": "stdout",
     "output_type": "stream",
     "text": [
      "[  1   4   9  16  25  36  49  64  81 100]\n"
     ]
    }
   ],
   "source": [
    "square_of_a = np.square(a)\n",
    "print(square_of_a)"
   ]
  },
  {
   "cell_type": "code",
   "execution_count": null,
   "id": "90018488",
   "metadata": {},
   "outputs": [],
   "source": [
    "''' # Exercise 7 - Make a variable named odds_in_a. It should hold only the odd numbers '''"
   ]
  },
  {
   "cell_type": "code",
   "execution_count": 57,
   "id": "79792fc1",
   "metadata": {},
   "outputs": [
    {
     "name": "stdout",
     "output_type": "stream",
     "text": [
      "[1, 3, 5, 7, 9]\n"
     ]
    }
   ],
   "source": [
    "\n",
    "odds_in_a = [n for n in a if n%2=1]\n",
    "print(odds_in_a)"
   ]
  },
  {
   "cell_type": "code",
   "execution_count": null,
   "id": "e1402aa0",
   "metadata": {},
   "outputs": [],
   "source": [
    "''' # Exercise 8 - Make a variable named evens_in_a. It should hold only the evens.'''"
   ]
  },
  {
   "cell_type": "code",
   "execution_count": 58,
   "id": "7a0a9ee7",
   "metadata": {},
   "outputs": [
    {
     "name": "stdout",
     "output_type": "stream",
     "text": [
      "[2, 4, 6, 8, 10]\n"
     ]
    }
   ],
   "source": [
    "evens_in_a = [n for n in a if n%2!=1]\n",
    "print (evens_in_a)"
   ]
  },
  {
   "cell_type": "markdown",
   "id": "58865513",
   "metadata": {},
   "source": [
    "# ## What about life in two dimensions? A list of lists is matrix, a table, a spreadsheet, a chessboard..."
   ]
  },
  {
   "cell_type": "code",
   "execution_count": 1,
   "id": "1c5abc18",
   "metadata": {},
   "outputs": [],
   "source": [
    "## Setup 2: Consider what it would take to find the sum, min, max, average, sum, product, and list of squares for this list of two lists.\n",
    "b = [\n",
    "    [3, 4, 5],\n",
    "    [6, 7, 8]\n",
    "]"
   ]
  },
  {
   "cell_type": "code",
   "execution_count": 59,
   "id": "4306a4ee",
   "metadata": {},
   "outputs": [
    {
     "data": {
      "text/plain": [
       "[3, 4, 5, 6, 7, 8]"
      ]
     },
     "execution_count": 59,
     "metadata": {},
     "output_type": "execute_result"
    }
   ],
   "source": [
    "flattened_list=[]\n",
    "for numbers in b:\n",
    "    for n in numbers:\n",
    "        flattened_list.append(n)\n",
    "flattened_list"
   ]
  },
  {
   "cell_type": "code",
   "execution_count": 2,
   "id": "9afdab27",
   "metadata": {},
   "outputs": [],
   "source": [
    "# Exercise 1 - refactor the following to use numpy. Use sum_of_b as the variable. **Hint, you'll first need to make sure that the \"b\" variable is a numpy array**\n",
    "sum_of_b = 0\n",
    "for row in b:\n",
    "    sum_of_b += sum(row)\n",
    "\n"
   ]
  },
  {
   "cell_type": "code",
   "execution_count": 60,
   "id": "6bca27bc",
   "metadata": {},
   "outputs": [
    {
     "data": {
      "text/plain": [
       "33"
      ]
     },
     "execution_count": 60,
     "metadata": {},
     "output_type": "execute_result"
    }
   ],
   "source": [
    "sum_b= sum(flattened_list)\n",
    "sum_b"
   ]
  },
  {
   "cell_type": "code",
   "execution_count": null,
   "id": "c2ccaea5",
   "metadata": {},
   "outputs": [],
   "source": [
    "\n",
    "# Exercise 2 - refactor the following to use numpy. \n",
    "min_of_b = min(b[0]) if min(b[0]) <= min(b[1]) else min(b[1])  "
   ]
  },
  {
   "cell_type": "code",
   "execution_count": 61,
   "id": "74265979",
   "metadata": {},
   "outputs": [
    {
     "data": {
      "text/plain": [
       "3"
      ]
     },
     "execution_count": 61,
     "metadata": {},
     "output_type": "execute_result"
    }
   ],
   "source": [
    "min_b = min(flattened_list)\n",
    "min_b"
   ]
  },
  {
   "cell_type": "code",
   "execution_count": null,
   "id": "0207081f",
   "metadata": {},
   "outputs": [],
   "source": [
    "# Exercise 3 - refactor the following maximum calculation to find the answer with numpy.\n",
    "max_of_b = max(b[0]) if max(b[0]) >= max(b[1]) else max(b[1])"
   ]
  },
  {
   "cell_type": "code",
   "execution_count": 62,
   "id": "c4134746",
   "metadata": {},
   "outputs": [
    {
     "data": {
      "text/plain": [
       "8"
      ]
     },
     "execution_count": 62,
     "metadata": {},
     "output_type": "execute_result"
    }
   ],
   "source": [
    "max_b = max(flattened_list)\n",
    "max_b"
   ]
  },
  {
   "cell_type": "code",
   "execution_count": null,
   "id": "e11e4ed3",
   "metadata": {},
   "outputs": [],
   "source": [
    "\n",
    "# Exercise 4 - refactor the following using numpy to find the mean of b\n",
    "mean_of_b = (sum(b[0]) + sum(b[1])) / (len(b[0]) + len(b[1]))"
   ]
  },
  {
   "cell_type": "code",
   "execution_count": 63,
   "id": "6eb22f1f",
   "metadata": {},
   "outputs": [
    {
     "data": {
      "text/plain": [
       "5.5"
      ]
     },
     "execution_count": 63,
     "metadata": {},
     "output_type": "execute_result"
    }
   ],
   "source": [
    "mean_b= np.mean(flattened_list)\n",
    "mean_b\n"
   ]
  },
  {
   "cell_type": "code",
   "execution_count": null,
   "id": "4a3c5f46",
   "metadata": {},
   "outputs": [],
   "source": [
    "# Exercise 5 - refactor the following to use numpy for calculating the product of all numbers multiplied together.\n",
    "product_of_b = 1\n",
    "for row in b:\n",
    "    for number in row:\n",
    "        product_of_b *= number"
   ]
  },
  {
   "cell_type": "code",
   "execution_count": 66,
   "id": "03e6ce92",
   "metadata": {},
   "outputs": [
    {
     "data": {
      "text/plain": [
       "20160"
      ]
     },
     "execution_count": 66,
     "metadata": {},
     "output_type": "execute_result"
    }
   ],
   "source": [
    "pro_b= np.prod(flattened_list)\n",
    "pro_b"
   ]
  },
  {
   "cell_type": "code",
   "execution_count": null,
   "id": "db794212",
   "metadata": {},
   "outputs": [],
   "source": [
    "# Exercise 6 - refactor the following to use numpy to find the list of squares \n",
    "squares_of_b = []\n",
    "for row in b:\n",
    "    for number in row:\n",
    "        squares_of_b.append(number**2)"
   ]
  },
  {
   "cell_type": "code",
   "execution_count": 67,
   "id": "ae990e65",
   "metadata": {},
   "outputs": [
    {
     "data": {
      "text/plain": [
       "array([[ 9, 16, 25],\n",
       "       [36, 49, 64]])"
      ]
     },
     "execution_count": 67,
     "metadata": {},
     "output_type": "execute_result"
    }
   ],
   "source": [
    "b = np.array(b)\n",
    "b**2"
   ]
  },
  {
   "cell_type": "code",
   "execution_count": null,
   "id": "535d41e4",
   "metadata": {},
   "outputs": [],
   "source": [
    "# Exercise 7 - refactor using numpy to determine the odds_in_b\n",
    "odds_in_b = []\n",
    "for row in b:\n",
    "    for number in row:\n",
    "        if(number % 2 != 0):\n",
    "            odds_in_b.append(number)"
   ]
  },
  {
   "cell_type": "code",
   "execution_count": 71,
   "id": "be529562",
   "metadata": {},
   "outputs": [
    {
     "data": {
      "text/plain": [
       "[3, 5, 7]"
      ]
     },
     "execution_count": 71,
     "metadata": {},
     "output_type": "execute_result"
    }
   ],
   "source": [
    "odds_in_b = [n for n in flattened_list if n%2 !=0]\n",
    "odds_in_b"
   ]
  },
  {
   "cell_type": "code",
   "execution_count": null,
   "id": "8a7d75d7",
   "metadata": {},
   "outputs": [],
   "source": [
    "# Exercise 8 - refactor the following to use numpy to filter only the even numbers\n",
    "evens_in_b = []\n",
    "for row in b:\n",
    "    for number in row:\n",
    "        if(number % 2 == 0):\n",
    "            evens_in_b.append(number)"
   ]
  },
  {
   "cell_type": "code",
   "execution_count": 74,
   "id": "a4d0428d",
   "metadata": {},
   "outputs": [
    {
     "data": {
      "text/plain": [
       "[4, 6, 8]"
      ]
     },
     "execution_count": 74,
     "metadata": {},
     "output_type": "execute_result"
    }
   ],
   "source": [
    "evens_in_b = [n for n in flattened_list if n%2 ==0]\n",
    "evens_in_b"
   ]
  },
  {
   "cell_type": "code",
   "execution_count": null,
   "id": "1a5d70d0",
   "metadata": {},
   "outputs": [],
   "source": [
    "# Exercise 9 - print out the shape of the array b."
   ]
  },
  {
   "cell_type": "code",
   "execution_count": 75,
   "id": "9153b473",
   "metadata": {},
   "outputs": [
    {
     "data": {
      "text/plain": [
       "(2, 3)"
      ]
     },
     "execution_count": 75,
     "metadata": {},
     "output_type": "execute_result"
    }
   ],
   "source": [
    "b.shape"
   ]
  },
  {
   "cell_type": "code",
   "execution_count": null,
   "id": "440af5e6",
   "metadata": {},
   "outputs": [],
   "source": [
    "\n",
    "# Exercise 10 - transpose the array b."
   ]
  },
  {
   "cell_type": "code",
   "execution_count": 78,
   "id": "d2f0337f",
   "metadata": {},
   "outputs": [
    {
     "data": {
      "text/plain": [
       "array([[3, 6],\n",
       "       [4, 7],\n",
       "       [5, 8]])"
      ]
     },
     "execution_count": 78,
     "metadata": {},
     "output_type": "execute_result"
    }
   ],
   "source": [
    "b.T"
   ]
  },
  {
   "cell_type": "code",
   "execution_count": null,
   "id": "817e8111",
   "metadata": {},
   "outputs": [],
   "source": [
    "\n",
    "# Exercise 11 - reshape the array b to be a single list of 6 numbers. (1 x 6)"
   ]
  },
  {
   "cell_type": "code",
   "execution_count": 79,
   "id": "e1c0deb5",
   "metadata": {},
   "outputs": [
    {
     "data": {
      "text/plain": [
       "array([3, 4, 5, 6, 7, 8])"
      ]
     },
     "execution_count": 79,
     "metadata": {},
     "output_type": "execute_result"
    }
   ],
   "source": [
    "b.flatten()"
   ]
  },
  {
   "cell_type": "code",
   "execution_count": null,
   "id": "b3d3cfac",
   "metadata": {},
   "outputs": [],
   "source": [
    "# Exercise 12 - reshape the array b to be a list of 6 lists, each containing only 1 number (6 x 1)"
   ]
  },
  {
   "cell_type": "code",
   "execution_count": 81,
   "id": "3cb07e01",
   "metadata": {},
   "outputs": [
    {
     "data": {
      "text/plain": [
       "array([[3],\n",
       "       [4],\n",
       "       [5],\n",
       "       [6],\n",
       "       [7],\n",
       "       [8]])"
      ]
     },
     "execution_count": 81,
     "metadata": {},
     "output_type": "execute_result"
    }
   ],
   "source": [
    "b.reshape(6,1)"
   ]
  },
  {
   "cell_type": "code",
   "execution_count": 82,
   "id": "3440c3c1",
   "metadata": {},
   "outputs": [],
   "source": [
    "## Setup 3\n",
    "c = [\n",
    "    [1, 2, 3],\n",
    "    [4, 5, 6],\n",
    "    [7, 8, 9]\n",
    "]\n",
    "c=np.array(c)"
   ]
  },
  {
   "cell_type": "code",
   "execution_count": null,
   "id": "25c86688",
   "metadata": {},
   "outputs": [],
   "source": [
    "# HINT, you'll first need to make sure that the \"c\" variable is a numpy array prior to using numpy array methods.\n",
    "# Exercise 1 - Find the min, max, sum, and product of c.\n",
    "\n"
   ]
  },
  {
   "cell_type": "code",
   "execution_count": null,
   "id": "3e83791a",
   "metadata": {},
   "outputs": [],
   "source": [
    "''' # Exercise 1 - Find the min, max, sum, and product of c.'''"
   ]
  },
  {
   "cell_type": "code",
   "execution_count": 83,
   "id": "14e60cc7",
   "metadata": {},
   "outputs": [
    {
     "data": {
      "text/plain": [
       "{'sum': 45, 'min': 1, 'max': 9, 'product': 362880}"
      ]
     },
     "execution_count": 83,
     "metadata": {},
     "output_type": "execute_result"
    }
   ],
   "source": [
    "{\n",
    "    'sum': c.sum(),\n",
    "    'min': c.min(),\n",
    "    'max': c.max(),\n",
    "    'sum':c.sum(),\n",
    "    'product': c.prod()\n",
    "}"
   ]
  },
  {
   "cell_type": "code",
   "execution_count": null,
   "id": "40cffaba",
   "metadata": {},
   "outputs": [],
   "source": [
    "''' # Exercise 2 - Determine the standard deviation of c.'''"
   ]
  },
  {
   "cell_type": "code",
   "execution_count": 84,
   "id": "910c51b8",
   "metadata": {},
   "outputs": [
    {
     "data": {
      "text/plain": [
       "2.581988897471611"
      ]
     },
     "execution_count": 84,
     "metadata": {},
     "output_type": "execute_result"
    }
   ],
   "source": [
    "c.std()"
   ]
  },
  {
   "cell_type": "code",
   "execution_count": null,
   "id": "125aa51d",
   "metadata": {},
   "outputs": [],
   "source": [
    "''' # Exercise 3 - Determine the variance of c.'''"
   ]
  },
  {
   "cell_type": "code",
   "execution_count": 85,
   "id": "ca89f82c",
   "metadata": {},
   "outputs": [
    {
     "data": {
      "text/plain": [
       "6.666666666666667"
      ]
     },
     "execution_count": 85,
     "metadata": {},
     "output_type": "execute_result"
    }
   ],
   "source": [
    "c.var()"
   ]
  },
  {
   "cell_type": "code",
   "execution_count": null,
   "id": "551c7cab",
   "metadata": {},
   "outputs": [],
   "source": [
    "''' # Exercise 4 - Print out the shape of the array c'''"
   ]
  },
  {
   "cell_type": "code",
   "execution_count": 86,
   "id": "1710a12c",
   "metadata": {},
   "outputs": [
    {
     "data": {
      "text/plain": [
       "(3, 3)"
      ]
     },
     "execution_count": 86,
     "metadata": {},
     "output_type": "execute_result"
    }
   ],
   "source": [
    "c.shape"
   ]
  },
  {
   "cell_type": "code",
   "execution_count": null,
   "id": "4b6fd7fb",
   "metadata": {},
   "outputs": [],
   "source": [
    "''' # Exercise 5 - Transpose c and print out transposed result.'''"
   ]
  },
  {
   "cell_type": "code",
   "execution_count": 87,
   "id": "765124b4",
   "metadata": {},
   "outputs": [
    {
     "data": {
      "text/plain": [
       "array([[1, 4, 7],\n",
       "       [2, 5, 8],\n",
       "       [3, 6, 9]])"
      ]
     },
     "execution_count": 87,
     "metadata": {},
     "output_type": "execute_result"
    }
   ],
   "source": [
    "c.T"
   ]
  },
  {
   "cell_type": "code",
   "execution_count": null,
   "id": "25407a7c",
   "metadata": {},
   "outputs": [],
   "source": [
    "''' # Exercise 6 - Get the dot product of the array c with c. '''"
   ]
  },
  {
   "cell_type": "code",
   "execution_count": 88,
   "id": "45a2fdd0",
   "metadata": {},
   "outputs": [
    {
     "data": {
      "text/plain": [
       "array([[ 30,  36,  42],\n",
       "       [ 66,  81,  96],\n",
       "       [102, 126, 150]])"
      ]
     },
     "execution_count": 88,
     "metadata": {},
     "output_type": "execute_result"
    }
   ],
   "source": [
    "np.dot(c,c)"
   ]
  },
  {
   "cell_type": "code",
   "execution_count": null,
   "id": "b0aafd56",
   "metadata": {},
   "outputs": [],
   "source": [
    "''' # Exercise 7 - Write the code necessary to sum up the result of c times c transposed. Answer should be 261'''"
   ]
  },
  {
   "cell_type": "code",
   "execution_count": 90,
   "id": "755de091",
   "metadata": {},
   "outputs": [
    {
     "data": {
      "text/plain": [
       "261"
      ]
     },
     "execution_count": 90,
     "metadata": {},
     "output_type": "execute_result"
    }
   ],
   "source": [
    "(c*c.T).sum()"
   ]
  },
  {
   "cell_type": "code",
   "execution_count": null,
   "id": "62bc1d8e",
   "metadata": {},
   "outputs": [],
   "source": [
    "''' # Exercise 8 - Write the code necessary to determine the product of c times c transposed. Answer should be 131681894400.'''"
   ]
  },
  {
   "cell_type": "code",
   "execution_count": 91,
   "id": "410cbf0f",
   "metadata": {},
   "outputs": [
    {
     "data": {
      "text/plain": [
       "131681894400"
      ]
     },
     "execution_count": 91,
     "metadata": {},
     "output_type": "execute_result"
    }
   ],
   "source": [
    "(c*c.T).prod()"
   ]
  },
  {
   "cell_type": "code",
   "execution_count": 92,
   "id": "20e37f7e",
   "metadata": {},
   "outputs": [],
   "source": [
    "## Setup 4\n",
    "\n",
    "d = [\n",
    "    [90, 30, 45, 0, 120, 180],\n",
    "    [45, -90, -30, 270, 90, 0],\n",
    "    [60, 45, -45, 90, -45, 180]\n",
    "]\n",
    "\n",
    "d=np.array(d)"
   ]
  },
  {
   "cell_type": "code",
   "execution_count": 93,
   "id": "5d8b82a7",
   "metadata": {},
   "outputs": [
    {
     "data": {
      "text/plain": [
       "array([[ 0.89399666, -0.98803162,  0.85090352,  0.        ,  0.58061118,\n",
       "        -0.80115264],\n",
       "       [ 0.85090352, -0.89399666,  0.98803162, -0.17604595,  0.89399666,\n",
       "         0.        ],\n",
       "       [-0.30481062,  0.85090352, -0.85090352,  0.89399666, -0.85090352,\n",
       "        -0.80115264]])"
      ]
     },
     "execution_count": 93,
     "metadata": {},
     "output_type": "execute_result"
    }
   ],
   "source": [
    "# Exercise 1 - Find the sine of all the numbers in d\n",
    "\n",
    "\n",
    "np.sin(d)\n"
   ]
  },
  {
   "cell_type": "code",
   "execution_count": 94,
   "id": "2e4724b7",
   "metadata": {},
   "outputs": [
    {
     "data": {
      "text/plain": [
       "array([[-0.44807362,  0.15425145,  0.52532199,  1.        ,  0.81418097,\n",
       "        -0.59846007],\n",
       "       [ 0.52532199, -0.44807362,  0.15425145,  0.98438195, -0.44807362,\n",
       "         1.        ],\n",
       "       [-0.95241298,  0.52532199,  0.52532199, -0.44807362,  0.52532199,\n",
       "        -0.59846007]])"
      ]
     },
     "execution_count": 94,
     "metadata": {},
     "output_type": "execute_result"
    }
   ],
   "source": [
    "# Exercise 2 - Find the cosine of all the numbers in d\n",
    "np.cos(d)\n"
   ]
  },
  {
   "cell_type": "code",
   "execution_count": 95,
   "id": "a8b88468",
   "metadata": {},
   "outputs": [
    {
     "data": {
      "text/plain": [
       "array([[-1.99520041, -6.4053312 ,  1.61977519,  0.        ,  0.71312301,\n",
       "         1.33869021],\n",
       "       [ 1.61977519,  1.99520041,  6.4053312 , -0.17883906, -1.99520041,\n",
       "         0.        ],\n",
       "       [ 0.32004039,  1.61977519, -1.61977519, -1.99520041, -1.61977519,\n",
       "         1.33869021]])"
      ]
     },
     "execution_count": 95,
     "metadata": {},
     "output_type": "execute_result"
    }
   ],
   "source": [
    "# Exercise 3 - Find the tangent of all the numbers in d\n",
    "\n",
    "np.tan(d)"
   ]
  },
  {
   "cell_type": "code",
   "execution_count": 96,
   "id": "ad1b38b8",
   "metadata": {},
   "outputs": [
    {
     "data": {
      "text/plain": [
       "array([-90, -30, -45, -45])"
      ]
     },
     "execution_count": 96,
     "metadata": {},
     "output_type": "execute_result"
    }
   ],
   "source": [
    "\n",
    "# Exercise 4 - Find all the negative numbers in d\n",
    "\n",
    "d[d<0]"
   ]
  },
  {
   "cell_type": "code",
   "execution_count": 98,
   "id": "300cc0f2",
   "metadata": {},
   "outputs": [
    {
     "data": {
      "text/plain": [
       "array([ 90,  30,  45, 120, 180,  45, 270,  90,  60,  45,  90, 180])"
      ]
     },
     "execution_count": 98,
     "metadata": {},
     "output_type": "execute_result"
    }
   ],
   "source": [
    "# Exercise 5 - Find all the positive numbers in d\n",
    "\n",
    "d[d>0]"
   ]
  },
  {
   "cell_type": "code",
   "execution_count": 99,
   "id": "4fabef5b",
   "metadata": {},
   "outputs": [
    {
     "data": {
      "text/plain": [
       "array([-90, -45, -30,   0,  30,  45,  60,  90, 120, 180, 270])"
      ]
     },
     "execution_count": 99,
     "metadata": {},
     "output_type": "execute_result"
    }
   ],
   "source": [
    "# Exercise 6 - Return an array of only the unique numbers in d.\n",
    "\n",
    "np.unique(d)"
   ]
  },
  {
   "cell_type": "code",
   "execution_count": 100,
   "id": "646451d3",
   "metadata": {},
   "outputs": [
    {
     "data": {
      "text/plain": [
       "11"
      ]
     },
     "execution_count": 100,
     "metadata": {},
     "output_type": "execute_result"
    }
   ],
   "source": [
    "\n",
    "# Exercise 7 - Determine how many unique numbers there are in d.\n",
    "\n",
    "np.unique(d).size"
   ]
  },
  {
   "cell_type": "code",
   "execution_count": 101,
   "id": "3c78b343",
   "metadata": {},
   "outputs": [
    {
     "data": {
      "text/plain": [
       "(3, 6)"
      ]
     },
     "execution_count": 101,
     "metadata": {},
     "output_type": "execute_result"
    }
   ],
   "source": [
    "\n",
    "# Exercise 8 - Print out the shape of d.\n",
    "d.shape"
   ]
  },
  {
   "cell_type": "code",
   "execution_count": 102,
   "id": "e0ae5c3d",
   "metadata": {},
   "outputs": [
    {
     "data": {
      "text/plain": [
       "(6, 3)"
      ]
     },
     "execution_count": 102,
     "metadata": {},
     "output_type": "execute_result"
    }
   ],
   "source": [
    "\n",
    "# Exercise 9 - Transpose and then print out the shape of d.\n",
    "\n",
    "d.T.shape"
   ]
  },
  {
   "cell_type": "code",
   "execution_count": 103,
   "id": "e53b5366",
   "metadata": {},
   "outputs": [
    {
     "data": {
      "text/plain": [
       "array([[ 90,  30],\n",
       "       [ 45,   0],\n",
       "       [120, 180],\n",
       "       [ 45, -90],\n",
       "       [-30, 270],\n",
       "       [ 90,   0],\n",
       "       [ 60,  45],\n",
       "       [-45,  90],\n",
       "       [-45, 180]])"
      ]
     },
     "execution_count": 103,
     "metadata": {},
     "output_type": "execute_result"
    }
   ],
   "source": [
    "\n",
    "# Exercise 10 - Reshape d into an array of 9 x 2\n",
    "d.reshape(9,2)"
   ]
  }
 ],
 "metadata": {
  "kernelspec": {
   "display_name": "Python 3",
   "language": "python",
   "name": "python3"
  },
  "language_info": {
   "codemirror_mode": {
    "name": "ipython",
    "version": 3
   },
   "file_extension": ".py",
   "mimetype": "text/x-python",
   "name": "python",
   "nbconvert_exporter": "python",
   "pygments_lexer": "ipython3",
   "version": "3.8.8"
  }
 },
 "nbformat": 4,
 "nbformat_minor": 5
}
