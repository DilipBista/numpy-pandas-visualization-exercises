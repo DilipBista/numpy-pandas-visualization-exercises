{
 "cells": [
  {
   "cell_type": "code",
   "execution_count": 1,
   "id": "cd58b4c9",
   "metadata": {},
   "outputs": [],
   "source": [
    "import numpy as np\n",
    "import pandas as pd\n",
    "import matplotlib.pyplot as plt"
   ]
  },
  {
   "cell_type": "markdown",
   "id": "cc64884d",
   "metadata": {},
   "source": [
    "# Exercises Part I "
   ]
  },
  {
   "cell_type": "code",
   "execution_count": null,
   "id": "29e31ff4",
   "metadata": {},
   "outputs": [],
   "source": [
    "  [\"kiwi\", \"mango\", \"strawberry\", \"pineapple\", \"gala apple\", \"honeycrisp apple\", \"tomato\", \"watermelon\", \"honeydew\", \"kiwi\", \"kiwi\", \"kiwi\", \"mango\", \"blueberry\", \"blackberry\", \"gooseberry\", \"papaya\"]"
   ]
  },
  {
   "cell_type": "code",
   "execution_count": 70,
   "id": "dfd95530",
   "metadata": {},
   "outputs": [
    {
     "data": {
      "text/plain": [
       "0                 kiwi\n",
       "1                mango\n",
       "2           strawberry\n",
       "3            pineapple\n",
       "4           gala apple\n",
       "5     honeycrisp apple\n",
       "6               tomato\n",
       "7           watermelon\n",
       "8             honeydew\n",
       "9                 kiwi\n",
       "10                kiwi\n",
       "11                kiwi\n",
       "12               mango\n",
       "13           blueberry\n",
       "14          blackberry\n",
       "15          gooseberry\n",
       "16              papaya\n",
       "dtype: object"
      ]
     },
     "execution_count": 70,
     "metadata": {},
     "output_type": "execute_result"
    }
   ],
   "source": [
    "fruits =    [\"kiwi\", \"mango\", \"strawberry\", \"pineapple\", \"gala apple\", \"honeycrisp apple\", \"tomato\", \"watermelon\", \"honeydew\", \"kiwi\", \"kiwi\", \"kiwi\", \"mango\", \"blueberry\", \"blackberry\", \"gooseberry\", \"papaya\"]\n",
    "\n",
    "fruits_series = pd.Series(fruits)\n",
    "fruits_series"
   ]
  },
  {
   "cell_type": "code",
   "execution_count": null,
   "id": "5d0f0efb",
   "metadata": {},
   "outputs": [],
   "source": [
    "''' 1. Determine the number of elements in fruits. '''\n"
   ]
  },
  {
   "cell_type": "code",
   "execution_count": 77,
   "id": "8af9c895",
   "metadata": {},
   "outputs": [
    {
     "data": {
      "text/plain": [
       "17"
      ]
     },
     "execution_count": 77,
     "metadata": {},
     "output_type": "execute_result"
    }
   ],
   "source": [
    "fruits_series = pd.Series(fruits)\n",
    "fruits_series.size\n"
   ]
  },
  {
   "cell_type": "code",
   "execution_count": null,
   "id": "3c86f6a0",
   "metadata": {},
   "outputs": [],
   "source": [
    "'''2. Output only the index from fruits.'''\n",
    "\n",
    "\n"
   ]
  },
  {
   "cell_type": "code",
   "execution_count": 17,
   "id": "845d47f0",
   "metadata": {},
   "outputs": [
    {
     "data": {
      "text/plain": [
       "RangeIndex(start=0, stop=17, step=1)"
      ]
     },
     "execution_count": 17,
     "metadata": {},
     "output_type": "execute_result"
    }
   ],
   "source": [
    "fruits_series.index"
   ]
  },
  {
   "cell_type": "code",
   "execution_count": 18,
   "id": "16fa8d7b",
   "metadata": {},
   "outputs": [
    {
     "data": {
      "text/plain": [
       "array(['kiwi', 'mango', 'strawberry', 'pineapple', 'gala apple',\n",
       "       'honeycrisp apple', 'tomato', 'watermelon', 'honeydew', 'kiwi',\n",
       "       'kiwi', 'kiwi', 'mango', 'blueberry', 'blackberry', 'gooseberry',\n",
       "       'papaya'], dtype=object)"
      ]
     },
     "execution_count": 18,
     "metadata": {},
     "output_type": "execute_result"
    }
   ],
   "source": [
    "'''3. Output only the values from fruits.'''\n",
    "\n",
    "fruits_series.values"
   ]
  },
  {
   "cell_type": "code",
   "execution_count": null,
   "id": "d0d43fd0",
   "metadata": {},
   "outputs": [],
   "source": [
    "''' 4. Confirm the data type of the values in fruits.'''"
   ]
  },
  {
   "cell_type": "code",
   "execution_count": 20,
   "id": "c68dad2f",
   "metadata": {},
   "outputs": [
    {
     "data": {
      "text/plain": [
       "dtype('O')"
      ]
     },
     "execution_count": 20,
     "metadata": {},
     "output_type": "execute_result"
    }
   ],
   "source": [
    "fruits_series.dtype"
   ]
  },
  {
   "cell_type": "code",
   "execution_count": null,
   "id": "f549403e",
   "metadata": {},
   "outputs": [],
   "source": [
    "\n",
    "''' 5. Determine the string value that occurs least frequently in fruits.'''"
   ]
  },
  {
   "cell_type": "code",
   "execution_count": 78,
   "id": "2f87c333",
   "metadata": {},
   "outputs": [
    {
     "data": {
      "text/plain": [
       "blueberry           1\n",
       "tomato              1\n",
       "watermelon          1\n",
       "gala apple          1\n",
       "strawberry          1\n",
       "pineapple           1\n",
       "honeycrisp apple    1\n",
       "papaya              1\n",
       "blackberry          1\n",
       "honeydew            1\n",
       "gooseberry          1\n",
       "dtype: int64"
      ]
     },
     "execution_count": 78,
     "metadata": {},
     "output_type": "execute_result"
    }
   ],
   "source": [
    "fruits_series.value_counts().nsmallest(n=1, keep ='all')"
   ]
  },
  {
   "cell_type": "code",
   "execution_count": 22,
   "id": "c4ce53ed",
   "metadata": {},
   "outputs": [
    {
     "data": {
      "text/plain": [
       "kiwi                4\n",
       "mango               2\n",
       "blueberry           1\n",
       "tomato              1\n",
       "watermelon          1\n",
       "gala apple          1\n",
       "strawberry          1\n",
       "pineapple           1\n",
       "honeycrisp apple    1\n",
       "papaya              1\n",
       "blackberry          1\n",
       "honeydew            1\n",
       "gooseberry          1\n",
       "dtype: int64"
      ]
     },
     "execution_count": 22,
     "metadata": {},
     "output_type": "execute_result"
    }
   ],
   "source": [
    "least_fruits = fruits_series.value_counts()\n",
    "least_fruits"
   ]
  },
  {
   "cell_type": "code",
   "execution_count": null,
   "id": "99fc29bb",
   "metadata": {},
   "outputs": [],
   "source": [
    "''' 6. Output only the first five values from fruits. Output the last three values. Output two random values from fruits.\n",
    "\n",
    "Run the .describe() on fruits to see what information it returns when called on a Series with string values.\n",
    "\n",
    "'''"
   ]
  },
  {
   "cell_type": "code",
   "execution_count": 34,
   "id": "2bb3db60",
   "metadata": {},
   "outputs": [
    {
     "name": "stdout",
     "output_type": "stream",
     "text": [
      "['kiwi' 'mango' 'strawberry' 'pineapple' 'gala apple']\n",
      "['blackberry' 'gooseberry' 'papaya']\n",
      "5     honeycrisp apple\n",
      "16              papaya\n",
      "dtype: object\n"
     ]
    },
    {
     "data": {
      "text/plain": [
       "count       17\n",
       "unique      13\n",
       "top       kiwi\n",
       "freq         4\n",
       "dtype: object"
      ]
     },
     "execution_count": 34,
     "metadata": {},
     "output_type": "execute_result"
    }
   ],
   "source": [
    "head_count= fruits_series.head()\n",
    "head_count\n",
    "first_five= head_count.values\n",
    "print(first_five)\n",
    "\n",
    "tail_count = fruits_series.tail(3)\n",
    "last_three = tail_count.values\n",
    "print(last_three)\n",
    "\n",
    "two_random= fruits_series.sample(2)\n",
    "print(two_random)\n",
    "\n",
    "fruits_series.describe()\n"
   ]
  },
  {
   "cell_type": "code",
   "execution_count": null,
   "id": "921169bd",
   "metadata": {},
   "outputs": [],
   "source": [
    "'''7. Run the code necessary to produce only the unique string values from fruits.'''"
   ]
  },
  {
   "cell_type": "code",
   "execution_count": 53,
   "id": "affeb294",
   "metadata": {},
   "outputs": [
    {
     "data": {
      "text/plain": [
       "array(['kiwi', 'mango', 'strawberry', 'pineapple', 'gala apple',\n",
       "       'honeycrisp apple', 'tomato', 'watermelon', 'honeydew',\n",
       "       'blueberry', 'blackberry', 'gooseberry', 'papaya'], dtype=object)"
      ]
     },
     "execution_count": 53,
     "metadata": {},
     "output_type": "execute_result"
    }
   ],
   "source": [
    "unique_string= fruits_series.unique()\n",
    "unique_string\n"
   ]
  },
  {
   "cell_type": "code",
   "execution_count": 61,
   "id": "c99307e8",
   "metadata": {},
   "outputs": [
    {
     "data": {
      "text/plain": [
       "13"
      ]
     },
     "execution_count": 61,
     "metadata": {},
     "output_type": "execute_result"
    }
   ],
   "source": [
    "' count unique'\n",
    "fruits_series.nunique()"
   ]
  },
  {
   "cell_type": "code",
   "execution_count": null,
   "id": "ffae4565",
   "metadata": {},
   "outputs": [],
   "source": [
    "''' 9. Determine how many times each unique string value occurs in fruits.'''"
   ]
  },
  {
   "cell_type": "code",
   "execution_count": 57,
   "id": "ed2ae5da",
   "metadata": {},
   "outputs": [
    {
     "data": {
      "text/plain": [
       "count       17\n",
       "unique      13\n",
       "top       kiwi\n",
       "freq         4\n",
       "dtype: object"
      ]
     },
     "execution_count": 57,
     "metadata": {},
     "output_type": "execute_result"
    }
   ],
   "source": [
    "\n",
    "fruits_series.sort_values()\n",
    "\n",
    "fruits_series.describe()\n",
    "\n"
   ]
  },
  {
   "cell_type": "code",
   "execution_count": null,
   "id": "e0918b15",
   "metadata": {},
   "outputs": [],
   "source": []
  },
  {
   "cell_type": "code",
   "execution_count": null,
   "id": "30bd6da2",
   "metadata": {},
   "outputs": [],
   "source": [
    "'''10. Determine the string value that occurs most frequently in fruits.'''"
   ]
  },
  {
   "cell_type": "code",
   "execution_count": 58,
   "id": "7d05b9af",
   "metadata": {},
   "outputs": [
    {
     "data": {
      "text/plain": [
       "count       17\n",
       "unique      13\n",
       "top       kiwi\n",
       "freq         4\n",
       "dtype: object"
      ]
     },
     "execution_count": 58,
     "metadata": {},
     "output_type": "execute_result"
    }
   ],
   "source": [
    "fruits_series.describe()\n"
   ]
  },
  {
   "cell_type": "code",
   "execution_count": 63,
   "id": "82f4b824",
   "metadata": {},
   "outputs": [
    {
     "data": {
      "text/plain": [
       "kiwi                4\n",
       "mango               2\n",
       "blueberry           1\n",
       "tomato              1\n",
       "watermelon          1\n",
       "gala apple          1\n",
       "strawberry          1\n",
       "pineapple           1\n",
       "honeycrisp apple    1\n",
       "papaya              1\n",
       "blackberry          1\n",
       "honeydew            1\n",
       "gooseberry          1\n",
       "dtype: int64"
      ]
     },
     "execution_count": 63,
     "metadata": {},
     "output_type": "execute_result"
    }
   ],
   "source": [
    "fruits_series.value_counts()"
   ]
  },
  {
   "cell_type": "code",
   "execution_count": 65,
   "id": "46408052",
   "metadata": {},
   "outputs": [
    {
     "data": {
      "text/plain": [
       "'kiwi'"
      ]
     },
     "execution_count": 65,
     "metadata": {},
     "output_type": "execute_result"
    }
   ],
   "source": [
    "fruits_series.value_counts().idxmax()"
   ]
  },
  {
   "cell_type": "code",
   "execution_count": 66,
   "id": "4735c2b2",
   "metadata": {},
   "outputs": [
    {
     "data": {
      "text/plain": [
       "kiwi    4\n",
       "dtype: int64"
      ]
     },
     "execution_count": 66,
     "metadata": {},
     "output_type": "execute_result"
    }
   ],
   "source": [
    "fruits_series.value_counts().nlargest(n =1, keep = 'all') # read docs "
   ]
  },
  {
   "cell_type": "code",
   "execution_count": null,
   "id": "08f69ac2",
   "metadata": {},
   "outputs": [],
   "source": [
    "''' Determine the string value that occurs least frequently in fruits.'''"
   ]
  },
  {
   "cell_type": "code",
   "execution_count": 67,
   "id": "bf4afa24",
   "metadata": {},
   "outputs": [
    {
     "data": {
      "text/plain": [
       "blueberry           1\n",
       "tomato              1\n",
       "watermelon          1\n",
       "gala apple          1\n",
       "strawberry          1\n",
       "pineapple           1\n",
       "honeycrisp apple    1\n",
       "papaya              1\n",
       "blackberry          1\n",
       "honeydew            1\n",
       "gooseberry          1\n",
       "dtype: int64"
      ]
     },
     "execution_count": 67,
     "metadata": {},
     "output_type": "execute_result"
    }
   ],
   "source": [
    "fruits_series.value_counts().nsmallest(n=1, keep ='all')"
   ]
  },
  {
   "cell_type": "markdown",
   "id": "4c21e232",
   "metadata": {},
   "source": [
    "# Exercises Part II\n",
    "\n",
    "Explore more attributes and methods while you continue to work with the fruits Series."
   ]
  },
  {
   "cell_type": "code",
   "execution_count": 130,
   "id": "54e7c986",
   "metadata": {},
   "outputs": [
    {
     "data": {
      "text/plain": [
       "['kiwi',\n",
       " 'mango',\n",
       " 'strawberry',\n",
       " 'pineapple',\n",
       " 'gala apple',\n",
       " 'honeycrisp apple',\n",
       " 'tomato',\n",
       " 'watermelon',\n",
       " 'honeydew',\n",
       " 'kiwi',\n",
       " 'kiwi',\n",
       " 'kiwi',\n",
       " 'mango',\n",
       " 'blueberry',\n",
       " 'blackberry',\n",
       " 'gooseberry',\n",
       " 'papaya']"
      ]
     },
     "execution_count": 130,
     "metadata": {},
     "output_type": "execute_result"
    }
   ],
   "source": [
    "fruits =    [\"kiwi\", \"mango\", \"strawberry\", \"pineapple\", \"gala apple\", \"honeycrisp apple\", \"tomato\", \"watermelon\", \"honeydew\", \"kiwi\", \"kiwi\", \"kiwi\", \"mango\", \"blueberry\", \"blackberry\", \"gooseberry\", \"papaya\"]\n"
   ]
  },
  {
   "cell_type": "code",
   "execution_count": 139,
   "id": "ef886b6c",
   "metadata": {},
   "outputs": [
    {
     "data": {
      "text/plain": [
       "0                 kiwi\n",
       "1                mango\n",
       "2           strawberry\n",
       "3            pineapple\n",
       "4           gala apple\n",
       "5     honeycrisp apple\n",
       "6               tomato\n",
       "7           watermelon\n",
       "8             honeydew\n",
       "9                 kiwi\n",
       "10                kiwi\n",
       "11                kiwi\n",
       "12               mango\n",
       "13           blueberry\n",
       "14          blackberry\n",
       "15          gooseberry\n",
       "16              papaya\n",
       "dtype: object"
      ]
     },
     "execution_count": 139,
     "metadata": {},
     "output_type": "execute_result"
    }
   ],
   "source": [
    "fruits= pd.Series(fruits)\n",
    "fruits"
   ]
  },
  {
   "cell_type": "code",
   "execution_count": 79,
   "id": "d0636d92",
   "metadata": {},
   "outputs": [
    {
     "data": {
      "text/plain": [
       "0                 KIWI\n",
       "1                MANGO\n",
       "2           STRAWBERRY\n",
       "3            PINEAPPLE\n",
       "4           GALA APPLE\n",
       "5     HONEYCRISP APPLE\n",
       "6               TOMATO\n",
       "7           WATERMELON\n",
       "8             HONEYDEW\n",
       "9                 KIWI\n",
       "10                KIWI\n",
       "11                KIWI\n",
       "12               MANGO\n",
       "13           BLUEBERRY\n",
       "14          BLACKBERRY\n",
       "15          GOOSEBERRY\n",
       "16              PAPAYA\n",
       "dtype: object"
      ]
     },
     "execution_count": 79,
     "metadata": {},
     "output_type": "execute_result"
    }
   ],
   "source": [
    "''' 1. Capitalize all the string values in fruits.'''\n",
    "\n",
    "fruits_series.str.upper()\n"
   ]
  },
  {
   "cell_type": "code",
   "execution_count": 83,
   "id": "48995e7a",
   "metadata": {},
   "outputs": [
    {
     "data": {
      "text/plain": [
       "0     0\n",
       "1     1\n",
       "2     1\n",
       "3     1\n",
       "4     3\n",
       "5     1\n",
       "6     1\n",
       "7     1\n",
       "8     0\n",
       "9     0\n",
       "10    0\n",
       "11    0\n",
       "12    1\n",
       "13    0\n",
       "14    1\n",
       "15    0\n",
       "16    3\n",
       "dtype: int64"
      ]
     },
     "execution_count": 83,
     "metadata": {},
     "output_type": "execute_result"
    }
   ],
   "source": [
    "\n",
    "''' 2. Count the letter \"a\" in all the string values (use string vectorization).'''\n",
    "\n",
    "fruits_series.str.count('a')"
   ]
  },
  {
   "cell_type": "code",
   "execution_count": null,
   "id": "bb6a7cc7",
   "metadata": {},
   "outputs": [],
   "source": [
    "''' 3. Output the number of vowels in each and every string value.'''"
   ]
  },
  {
   "cell_type": "code",
   "execution_count": 140,
   "id": "13d4d07b",
   "metadata": {},
   "outputs": [
    {
     "data": {
      "text/plain": [
       "0     2\n",
       "1     2\n",
       "2     2\n",
       "3     4\n",
       "4     4\n",
       "5     5\n",
       "6     3\n",
       "7     4\n",
       "8     3\n",
       "9     2\n",
       "10    2\n",
       "11    2\n",
       "12    2\n",
       "13    3\n",
       "14    2\n",
       "15    4\n",
       "16    3\n",
       "dtype: int64"
      ]
     },
     "execution_count": 140,
     "metadata": {},
     "output_type": "execute_result"
    }
   ],
   "source": [
    "\n",
    "def contains_vowels(fruits):\n",
    "    num_vowels = 0\n",
    "    for alpha in fruits:\n",
    "        if alpha in \"aeiouAEIOU\":\n",
    "            num_vowels= num_vowels+1\n",
    "    return num_vowels\n",
    "fruits.apply(contains_vowels)  "
   ]
  },
  {
   "cell_type": "code",
   "execution_count": null,
   "id": "3e642bd0",
   "metadata": {},
   "outputs": [],
   "source": [
    "''' 4. Write the code to get the longest string value from fruits.'''\n"
   ]
  },
  {
   "cell_type": "code",
   "execution_count": 152,
   "id": "ea6077c8",
   "metadata": {},
   "outputs": [
    {
     "data": {
      "text/plain": [
       "'honeycrisp apple'"
      ]
     },
     "execution_count": 152,
     "metadata": {},
     "output_type": "execute_result"
    }
   ],
   "source": [
    "longest_string = fruits.apply(len).idxmax()\n",
    "fruits[longest_string]"
   ]
  },
  {
   "cell_type": "code",
   "execution_count": null,
   "id": "94c3ca89",
   "metadata": {},
   "outputs": [],
   "source": [
    "''' 5. Write the code to get the string values with 5 or more letters in the name.'''\n",
    "\n"
   ]
  },
  {
   "cell_type": "code",
   "execution_count": 144,
   "id": "4fe61114",
   "metadata": {},
   "outputs": [
    {
     "data": {
      "text/plain": [
       "1                mango\n",
       "2           strawberry\n",
       "3            pineapple\n",
       "4           gala apple\n",
       "5     honeycrisp apple\n",
       "6               tomato\n",
       "7           watermelon\n",
       "8             honeydew\n",
       "12               mango\n",
       "13           blueberry\n",
       "14          blackberry\n",
       "15          gooseberry\n",
       "16              papaya\n",
       "dtype: object"
      ]
     },
     "execution_count": 144,
     "metadata": {},
     "output_type": "execute_result"
    }
   ],
   "source": [
    "fruits[fruits.apply(len) >= 5]"
   ]
  },
  {
   "cell_type": "code",
   "execution_count": null,
   "id": "7734eed4",
   "metadata": {},
   "outputs": [],
   "source": [
    "''' 6. Use the .apply method with a lambda function to find the fruit(s) containing the letter \"o\" two or more times.'''\n",
    "\n"
   ]
  },
  {
   "cell_type": "code",
   "execution_count": 154,
   "id": "6eab50e0",
   "metadata": {},
   "outputs": [
    {
     "data": {
      "text/plain": [
       "6         tomato\n",
       "15    gooseberry\n",
       "dtype: object"
      ]
     },
     "execution_count": 154,
     "metadata": {},
     "output_type": "execute_result"
    }
   ],
   "source": [
    "fruits[fruits.apply(lambda fruit: fruit.count('o') > 1)]"
   ]
  },
  {
   "cell_type": "code",
   "execution_count": null,
   "id": "8ef2fe5f",
   "metadata": {},
   "outputs": [],
   "source": [
    "''' 7. Write the code to get only the string values containing the substring \"berry\".'''"
   ]
  },
  {
   "cell_type": "code",
   "execution_count": 146,
   "id": "db12e1fa",
   "metadata": {},
   "outputs": [
    {
     "data": {
      "text/plain": [
       "2     strawberry\n",
       "13     blueberry\n",
       "14    blackberry\n",
       "15    gooseberry\n",
       "dtype: object"
      ]
     },
     "execution_count": 146,
     "metadata": {},
     "output_type": "execute_result"
    }
   ],
   "source": [
    "fruits[fruits.str.contains('berry')]"
   ]
  },
  {
   "cell_type": "code",
   "execution_count": null,
   "id": "7da444c3",
   "metadata": {},
   "outputs": [],
   "source": [
    "''' 8. Write the code to get only the string values containing the substring \"apple\".'''\n"
   ]
  },
  {
   "cell_type": "code",
   "execution_count": 147,
   "id": "33a78507",
   "metadata": {},
   "outputs": [
    {
     "data": {
      "text/plain": [
       "3           pineapple\n",
       "4          gala apple\n",
       "5    honeycrisp apple\n",
       "dtype: object"
      ]
     },
     "execution_count": 147,
     "metadata": {},
     "output_type": "execute_result"
    }
   ],
   "source": [
    "fruits[fruits.str.contains('apple')]"
   ]
  },
  {
   "cell_type": "code",
   "execution_count": null,
   "id": "2b88d0be",
   "metadata": {},
   "outputs": [],
   "source": [
    "\n",
    "''' 9. Which string value contains the most vowels?'''"
   ]
  },
  {
   "cell_type": "code",
   "execution_count": 149,
   "id": "0ee18b5c",
   "metadata": {},
   "outputs": [
    {
     "data": {
      "text/plain": [
       "'honeycrisp apple'"
      ]
     },
     "execution_count": 149,
     "metadata": {},
     "output_type": "execute_result"
    }
   ],
   "source": [
    "fruits[fruits.apply(contains_vowels).idxmax()]"
   ]
  },
  {
   "cell_type": "markdown",
   "id": "d262bcef",
   "metadata": {},
   "source": [
    "# Exercise III\n",
    "\n",
    "Explore more attributes and methods while you continue to work with the fruits Series."
   ]
  },
  {
   "cell_type": "code",
   "execution_count": null,
   "id": "3645cff6",
   "metadata": {},
   "outputs": [],
   "source": [
    "\n",
    "\n"
   ]
  },
  {
   "cell_type": "code",
   "execution_count": null,
   "id": "df5ec2f2",
   "metadata": {},
   "outputs": [],
   "source": [
    "\n",
    "\n"
   ]
  },
  {
   "cell_type": "code",
   "execution_count": null,
   "id": "7db28e92",
   "metadata": {},
   "outputs": [],
   "source": [
    "\n"
   ]
  },
  {
   "cell_type": "code",
   "execution_count": null,
   "id": "98814b19",
   "metadata": {},
   "outputs": [],
   "source": [
    "\n",
    "\n"
   ]
  },
  {
   "cell_type": "code",
   "execution_count": null,
   "id": "e48c4363",
   "metadata": {},
   "outputs": [],
   "source": [
    "\n",
    "\n"
   ]
  },
  {
   "cell_type": "code",
   "execution_count": null,
   "id": "3e117fe3",
   "metadata": {},
   "outputs": [],
   "source": [
    "\n"
   ]
  },
  {
   "cell_type": "code",
   "execution_count": null,
   "id": "de43c291",
   "metadata": {},
   "outputs": [],
   "source": [
    "\n"
   ]
  },
  {
   "cell_type": "code",
   "execution_count": null,
   "id": "76f655ee",
   "metadata": {},
   "outputs": [],
   "source": [
    "\n",
    "\n"
   ]
  },
  {
   "cell_type": "code",
   "execution_count": null,
   "id": "2d86e889",
   "metadata": {},
   "outputs": [],
   "source": []
  }
 ],
 "metadata": {
  "kernelspec": {
   "display_name": "Python 3",
   "language": "python",
   "name": "python3"
  },
  "language_info": {
   "codemirror_mode": {
    "name": "ipython",
    "version": 3
   },
   "file_extension": ".py",
   "mimetype": "text/x-python",
   "name": "python",
   "nbconvert_exporter": "python",
   "pygments_lexer": "ipython3",
   "version": "3.8.8"
  }
 },
 "nbformat": 4,
 "nbformat_minor": 5
}
