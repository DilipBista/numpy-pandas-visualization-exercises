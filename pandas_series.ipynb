{
 "cells": [
  {
   "cell_type": "code",
   "execution_count": 1,
   "id": "6c819fbc",
   "metadata": {},
   "outputs": [],
   "source": [
    "import numpy as np\n",
    "import pandas as pd\n",
    "import matplotlib.pyplot as plt"
   ]
  },
  {
   "cell_type": "markdown",
   "id": "00d1623d",
   "metadata": {},
   "source": [
    "# Exercises Part I "
   ]
  },
  {
   "cell_type": "code",
   "execution_count": null,
   "id": "b49322fa",
   "metadata": {},
   "outputs": [],
   "source": [
    "  [\"kiwi\", \"mango\", \"strawberry\", \"pineapple\", \"gala apple\", \"honeycrisp apple\", \"tomato\", \"watermelon\", \"honeydew\", \"kiwi\", \"kiwi\", \"kiwi\", \"mango\", \"blueberry\", \"blackberry\", \"gooseberry\", \"papaya\"]"
   ]
  },
  {
   "cell_type": "code",
   "execution_count": 70,
   "id": "00a471cf",
   "metadata": {},
   "outputs": [
    {
     "data": {
      "text/plain": [
       "0                 kiwi\n",
       "1                mango\n",
       "2           strawberry\n",
       "3            pineapple\n",
       "4           gala apple\n",
       "5     honeycrisp apple\n",
       "6               tomato\n",
       "7           watermelon\n",
       "8             honeydew\n",
       "9                 kiwi\n",
       "10                kiwi\n",
       "11                kiwi\n",
       "12               mango\n",
       "13           blueberry\n",
       "14          blackberry\n",
       "15          gooseberry\n",
       "16              papaya\n",
       "dtype: object"
      ]
     },
     "execution_count": 70,
     "metadata": {},
     "output_type": "execute_result"
    }
   ],
   "source": [
    "fruits =    [\"kiwi\", \"mango\", \"strawberry\", \"pineapple\", \"gala apple\", \"honeycrisp apple\", \"tomato\", \"watermelon\", \"honeydew\", \"kiwi\", \"kiwi\", \"kiwi\", \"mango\", \"blueberry\", \"blackberry\", \"gooseberry\", \"papaya\"]\n",
    "\n",
    "fruits_series = pd.Series(fruits)\n",
    "fruits_series"
   ]
  },
  {
   "cell_type": "code",
   "execution_count": null,
   "id": "5cd16bcf",
   "metadata": {},
   "outputs": [],
   "source": [
    "''' 1. Determine the number of elements in fruits. '''\n"
   ]
  },
  {
   "cell_type": "code",
   "execution_count": 77,
   "id": "bb1ecbbe",
   "metadata": {},
   "outputs": [
    {
     "data": {
      "text/plain": [
       "17"
      ]
     },
     "execution_count": 77,
     "metadata": {},
     "output_type": "execute_result"
    }
   ],
   "source": [
    "fruits_series = pd.Series(fruits)\n",
    "fruits_series.size\n"
   ]
  },
  {
   "cell_type": "code",
   "execution_count": null,
   "id": "659e056d",
   "metadata": {},
   "outputs": [],
   "source": [
    "'''2. Output only the index from fruits.'''\n",
    "\n",
    "\n"
   ]
  },
  {
   "cell_type": "code",
   "execution_count": 17,
   "id": "633f076a",
   "metadata": {},
   "outputs": [
    {
     "data": {
      "text/plain": [
       "RangeIndex(start=0, stop=17, step=1)"
      ]
     },
     "execution_count": 17,
     "metadata": {},
     "output_type": "execute_result"
    }
   ],
   "source": [
    "fruits_series.index"
   ]
  },
  {
   "cell_type": "code",
   "execution_count": 18,
   "id": "c42a5653",
   "metadata": {},
   "outputs": [
    {
     "data": {
      "text/plain": [
       "array(['kiwi', 'mango', 'strawberry', 'pineapple', 'gala apple',\n",
       "       'honeycrisp apple', 'tomato', 'watermelon', 'honeydew', 'kiwi',\n",
       "       'kiwi', 'kiwi', 'mango', 'blueberry', 'blackberry', 'gooseberry',\n",
       "       'papaya'], dtype=object)"
      ]
     },
     "execution_count": 18,
     "metadata": {},
     "output_type": "execute_result"
    }
   ],
   "source": [
    "'''3. Output only the values from fruits.'''\n",
    "\n",
    "fruits_series.values"
   ]
  },
  {
   "cell_type": "code",
   "execution_count": null,
   "id": "cd4288b9",
   "metadata": {},
   "outputs": [],
   "source": [
    "''' 4. Confirm the data type of the values in fruits.'''"
   ]
  },
  {
   "cell_type": "code",
   "execution_count": 20,
   "id": "8d409089",
   "metadata": {},
   "outputs": [
    {
     "data": {
      "text/plain": [
       "dtype('O')"
      ]
     },
     "execution_count": 20,
     "metadata": {},
     "output_type": "execute_result"
    }
   ],
   "source": [
    "fruits_series.dtype"
   ]
  },
  {
   "cell_type": "code",
   "execution_count": null,
   "id": "7367909a",
   "metadata": {},
   "outputs": [],
   "source": [
    "\n",
    "''' 5. Determine the string value that occurs least frequently in fruits.'''"
   ]
  },
  {
   "cell_type": "code",
   "execution_count": 78,
   "id": "a575e53a",
   "metadata": {},
   "outputs": [
    {
     "data": {
      "text/plain": [
       "blueberry           1\n",
       "tomato              1\n",
       "watermelon          1\n",
       "gala apple          1\n",
       "strawberry          1\n",
       "pineapple           1\n",
       "honeycrisp apple    1\n",
       "papaya              1\n",
       "blackberry          1\n",
       "honeydew            1\n",
       "gooseberry          1\n",
       "dtype: int64"
      ]
     },
     "execution_count": 78,
     "metadata": {},
     "output_type": "execute_result"
    }
   ],
   "source": [
    "fruits_series.value_counts().nsmallest(n=1, keep ='all')"
   ]
  },
  {
   "cell_type": "code",
   "execution_count": 22,
   "id": "e32de46f",
   "metadata": {},
   "outputs": [
    {
     "data": {
      "text/plain": [
       "kiwi                4\n",
       "mango               2\n",
       "blueberry           1\n",
       "tomato              1\n",
       "watermelon          1\n",
       "gala apple          1\n",
       "strawberry          1\n",
       "pineapple           1\n",
       "honeycrisp apple    1\n",
       "papaya              1\n",
       "blackberry          1\n",
       "honeydew            1\n",
       "gooseberry          1\n",
       "dtype: int64"
      ]
     },
     "execution_count": 22,
     "metadata": {},
     "output_type": "execute_result"
    }
   ],
   "source": [
    "least_fruits = fruits_series.value_counts()\n",
    "least_fruits"
   ]
  },
  {
   "cell_type": "code",
   "execution_count": null,
   "id": "b6726587",
   "metadata": {},
   "outputs": [],
   "source": [
    "''' 6. Output only the first five values from fruits. Output the last three values. Output two random values from fruits.\n",
    "\n",
    "Run the .describe() on fruits to see what information it returns when called on a Series with string values.\n",
    "\n",
    "'''"
   ]
  },
  {
   "cell_type": "code",
   "execution_count": 34,
   "id": "0fc94c2a",
   "metadata": {},
   "outputs": [
    {
     "name": "stdout",
     "output_type": "stream",
     "text": [
      "['kiwi' 'mango' 'strawberry' 'pineapple' 'gala apple']\n",
      "['blackberry' 'gooseberry' 'papaya']\n",
      "5     honeycrisp apple\n",
      "16              papaya\n",
      "dtype: object\n"
     ]
    },
    {
     "data": {
      "text/plain": [
       "count       17\n",
       "unique      13\n",
       "top       kiwi\n",
       "freq         4\n",
       "dtype: object"
      ]
     },
     "execution_count": 34,
     "metadata": {},
     "output_type": "execute_result"
    }
   ],
   "source": [
    "head_count= fruits_series.head()\n",
    "head_count\n",
    "first_five= head_count.values\n",
    "print(first_five)\n",
    "\n",
    "tail_count = fruits_series.tail(3)\n",
    "last_three = tail_count.values\n",
    "print(last_three)\n",
    "\n",
    "two_random= fruits_series.sample(2)\n",
    "print(two_random)\n",
    "\n",
    "fruits_series.describe()\n"
   ]
  },
  {
   "cell_type": "code",
   "execution_count": null,
   "id": "4fd3b2ef",
   "metadata": {},
   "outputs": [],
   "source": [
    "'''7. Run the code necessary to produce only the unique string values from fruits.'''"
   ]
  },
  {
   "cell_type": "code",
   "execution_count": 53,
   "id": "0e7f2a36",
   "metadata": {},
   "outputs": [
    {
     "data": {
      "text/plain": [
       "array(['kiwi', 'mango', 'strawberry', 'pineapple', 'gala apple',\n",
       "       'honeycrisp apple', 'tomato', 'watermelon', 'honeydew',\n",
       "       'blueberry', 'blackberry', 'gooseberry', 'papaya'], dtype=object)"
      ]
     },
     "execution_count": 53,
     "metadata": {},
     "output_type": "execute_result"
    }
   ],
   "source": [
    "unique_string= fruits_series.unique()\n",
    "unique_string\n"
   ]
  },
  {
   "cell_type": "code",
   "execution_count": 61,
   "id": "fd92539b",
   "metadata": {},
   "outputs": [
    {
     "data": {
      "text/plain": [
       "13"
      ]
     },
     "execution_count": 61,
     "metadata": {},
     "output_type": "execute_result"
    }
   ],
   "source": [
    "' count unique'\n",
    "fruits_series.nunique()"
   ]
  },
  {
   "cell_type": "code",
   "execution_count": null,
   "id": "a03a26e6",
   "metadata": {},
   "outputs": [],
   "source": [
    "''' 9. Determine how many times each unique string value occurs in fruits.'''"
   ]
  },
  {
   "cell_type": "code",
   "execution_count": 57,
   "id": "95cd655d",
   "metadata": {},
   "outputs": [
    {
     "data": {
      "text/plain": [
       "count       17\n",
       "unique      13\n",
       "top       kiwi\n",
       "freq         4\n",
       "dtype: object"
      ]
     },
     "execution_count": 57,
     "metadata": {},
     "output_type": "execute_result"
    }
   ],
   "source": [
    "\n",
    "fruits_series.sort_values()\n",
    "\n",
    "fruits_series.describe()\n",
    "\n"
   ]
  },
  {
   "cell_type": "code",
   "execution_count": null,
   "id": "bb2e9507",
   "metadata": {},
   "outputs": [],
   "source": []
  },
  {
   "cell_type": "code",
   "execution_count": null,
   "id": "b238c2dd",
   "metadata": {},
   "outputs": [],
   "source": [
    "'''10. Determine the string value that occurs most frequently in fruits.'''"
   ]
  },
  {
   "cell_type": "code",
   "execution_count": 58,
   "id": "d5d7e380",
   "metadata": {},
   "outputs": [
    {
     "data": {
      "text/plain": [
       "count       17\n",
       "unique      13\n",
       "top       kiwi\n",
       "freq         4\n",
       "dtype: object"
      ]
     },
     "execution_count": 58,
     "metadata": {},
     "output_type": "execute_result"
    }
   ],
   "source": [
    "fruits_series.describe()\n"
   ]
  },
  {
   "cell_type": "code",
   "execution_count": 63,
   "id": "5e57564e",
   "metadata": {},
   "outputs": [
    {
     "data": {
      "text/plain": [
       "kiwi                4\n",
       "mango               2\n",
       "blueberry           1\n",
       "tomato              1\n",
       "watermelon          1\n",
       "gala apple          1\n",
       "strawberry          1\n",
       "pineapple           1\n",
       "honeycrisp apple    1\n",
       "papaya              1\n",
       "blackberry          1\n",
       "honeydew            1\n",
       "gooseberry          1\n",
       "dtype: int64"
      ]
     },
     "execution_count": 63,
     "metadata": {},
     "output_type": "execute_result"
    }
   ],
   "source": [
    "fruits_series.value_counts()"
   ]
  },
  {
   "cell_type": "code",
   "execution_count": 65,
   "id": "865bfec0",
   "metadata": {},
   "outputs": [
    {
     "data": {
      "text/plain": [
       "'kiwi'"
      ]
     },
     "execution_count": 65,
     "metadata": {},
     "output_type": "execute_result"
    }
   ],
   "source": [
    "fruits_series.value_counts().idxmax()"
   ]
  },
  {
   "cell_type": "code",
   "execution_count": 66,
   "id": "591bf2f0",
   "metadata": {},
   "outputs": [
    {
     "data": {
      "text/plain": [
       "kiwi    4\n",
       "dtype: int64"
      ]
     },
     "execution_count": 66,
     "metadata": {},
     "output_type": "execute_result"
    }
   ],
   "source": [
    "fruits_series.value_counts().nlargest(n =1, keep = 'all') # read docs "
   ]
  },
  {
   "cell_type": "code",
   "execution_count": null,
   "id": "228ef5c4",
   "metadata": {},
   "outputs": [],
   "source": [
    "''' Determine the string value that occurs least frequently in fruits.'''"
   ]
  },
  {
   "cell_type": "code",
   "execution_count": 67,
   "id": "3353d252",
   "metadata": {},
   "outputs": [
    {
     "data": {
      "text/plain": [
       "blueberry           1\n",
       "tomato              1\n",
       "watermelon          1\n",
       "gala apple          1\n",
       "strawberry          1\n",
       "pineapple           1\n",
       "honeycrisp apple    1\n",
       "papaya              1\n",
       "blackberry          1\n",
       "honeydew            1\n",
       "gooseberry          1\n",
       "dtype: int64"
      ]
     },
     "execution_count": 67,
     "metadata": {},
     "output_type": "execute_result"
    }
   ],
   "source": [
    "fruits_series.value_counts().nsmallest(n=1, keep ='all')"
   ]
  },
  {
   "cell_type": "markdown",
   "id": "044489e8",
   "metadata": {},
   "source": [
    "# Exercises Part II\n",
    "\n",
    "Explore more attributes and methods while you continue to work with the fruits Series."
   ]
  },
  {
   "cell_type": "code",
   "execution_count": 130,
   "id": "cb644190",
   "metadata": {},
   "outputs": [
    {
     "data": {
      "text/plain": [
       "['kiwi',\n",
       " 'mango',\n",
       " 'strawberry',\n",
       " 'pineapple',\n",
       " 'gala apple',\n",
       " 'honeycrisp apple',\n",
       " 'tomato',\n",
       " 'watermelon',\n",
       " 'honeydew',\n",
       " 'kiwi',\n",
       " 'kiwi',\n",
       " 'kiwi',\n",
       " 'mango',\n",
       " 'blueberry',\n",
       " 'blackberry',\n",
       " 'gooseberry',\n",
       " 'papaya']"
      ]
     },
     "execution_count": 130,
     "metadata": {},
     "output_type": "execute_result"
    }
   ],
   "source": [
    "fruits =    [\"kiwi\", \"mango\", \"strawberry\", \"pineapple\", \"gala apple\", \"honeycrisp apple\", \"tomato\", \"watermelon\", \"honeydew\", \"kiwi\", \"kiwi\", \"kiwi\", \"mango\", \"blueberry\", \"blackberry\", \"gooseberry\", \"papaya\"]\n"
   ]
  },
  {
   "cell_type": "code",
   "execution_count": 139,
   "id": "fd2c539d",
   "metadata": {},
   "outputs": [
    {
     "data": {
      "text/plain": [
       "0                 kiwi\n",
       "1                mango\n",
       "2           strawberry\n",
       "3            pineapple\n",
       "4           gala apple\n",
       "5     honeycrisp apple\n",
       "6               tomato\n",
       "7           watermelon\n",
       "8             honeydew\n",
       "9                 kiwi\n",
       "10                kiwi\n",
       "11                kiwi\n",
       "12               mango\n",
       "13           blueberry\n",
       "14          blackberry\n",
       "15          gooseberry\n",
       "16              papaya\n",
       "dtype: object"
      ]
     },
     "execution_count": 139,
     "metadata": {},
     "output_type": "execute_result"
    }
   ],
   "source": [
    "fruits= pd.Series(fruits)\n",
    "fruits"
   ]
  },
  {
   "cell_type": "code",
   "execution_count": 79,
   "id": "5eafbdfd",
   "metadata": {},
   "outputs": [
    {
     "data": {
      "text/plain": [
       "0                 KIWI\n",
       "1                MANGO\n",
       "2           STRAWBERRY\n",
       "3            PINEAPPLE\n",
       "4           GALA APPLE\n",
       "5     HONEYCRISP APPLE\n",
       "6               TOMATO\n",
       "7           WATERMELON\n",
       "8             HONEYDEW\n",
       "9                 KIWI\n",
       "10                KIWI\n",
       "11                KIWI\n",
       "12               MANGO\n",
       "13           BLUEBERRY\n",
       "14          BLACKBERRY\n",
       "15          GOOSEBERRY\n",
       "16              PAPAYA\n",
       "dtype: object"
      ]
     },
     "execution_count": 79,
     "metadata": {},
     "output_type": "execute_result"
    }
   ],
   "source": [
    "''' 1. Capitalize all the string values in fruits.'''\n",
    "\n",
    "fruits_series.str.upper()\n"
   ]
  },
  {
   "cell_type": "code",
   "execution_count": 83,
   "id": "3103b00b",
   "metadata": {},
   "outputs": [
    {
     "data": {
      "text/plain": [
       "0     0\n",
       "1     1\n",
       "2     1\n",
       "3     1\n",
       "4     3\n",
       "5     1\n",
       "6     1\n",
       "7     1\n",
       "8     0\n",
       "9     0\n",
       "10    0\n",
       "11    0\n",
       "12    1\n",
       "13    0\n",
       "14    1\n",
       "15    0\n",
       "16    3\n",
       "dtype: int64"
      ]
     },
     "execution_count": 83,
     "metadata": {},
     "output_type": "execute_result"
    }
   ],
   "source": [
    "\n",
    "''' 2. Count the letter \"a\" in all the string values (use string vectorization).'''\n",
    "\n",
    "fruits_series.str.count('a')"
   ]
  },
  {
   "cell_type": "code",
   "execution_count": null,
   "id": "8a408590",
   "metadata": {},
   "outputs": [],
   "source": [
    "''' 3. Output the number of vowels in each and every string value.'''"
   ]
  },
  {
   "cell_type": "code",
   "execution_count": 140,
   "id": "ade5d224",
   "metadata": {},
   "outputs": [
    {
     "data": {
      "text/plain": [
       "0     2\n",
       "1     2\n",
       "2     2\n",
       "3     4\n",
       "4     4\n",
       "5     5\n",
       "6     3\n",
       "7     4\n",
       "8     3\n",
       "9     2\n",
       "10    2\n",
       "11    2\n",
       "12    2\n",
       "13    3\n",
       "14    2\n",
       "15    4\n",
       "16    3\n",
       "dtype: int64"
      ]
     },
     "execution_count": 140,
     "metadata": {},
     "output_type": "execute_result"
    }
   ],
   "source": [
    "\n",
    "def contains_vowels(fruits):\n",
    "    num_vowels = 0\n",
    "    for alpha in fruits:\n",
    "        if alpha in \"aeiouAEIOU\":\n",
    "            num_vowels= num_vowels+1\n",
    "    return num_vowels\n",
    "fruits.apply(contains_vowels)  "
   ]
  },
  {
   "cell_type": "code",
   "execution_count": null,
   "id": "7b631a18",
   "metadata": {},
   "outputs": [],
   "source": [
    "''' 4. Write the code to get the longest string value from fruits.'''\n"
   ]
  },
  {
   "cell_type": "code",
   "execution_count": 152,
   "id": "ca136fbe",
   "metadata": {},
   "outputs": [
    {
     "data": {
      "text/plain": [
       "'honeycrisp apple'"
      ]
     },
     "execution_count": 152,
     "metadata": {},
     "output_type": "execute_result"
    }
   ],
   "source": [
    "longest_string = fruits.apply(len).idxmax()\n",
    "fruits[longest_string]"
   ]
  },
  {
   "cell_type": "code",
   "execution_count": null,
   "id": "595f180f",
   "metadata": {},
   "outputs": [],
   "source": [
    "''' 5. Write the code to get the string values with 5 or more letters in the name.'''\n",
    "\n"
   ]
  },
  {
   "cell_type": "code",
   "execution_count": 144,
   "id": "ccfa14eb",
   "metadata": {},
   "outputs": [
    {
     "data": {
      "text/plain": [
       "1                mango\n",
       "2           strawberry\n",
       "3            pineapple\n",
       "4           gala apple\n",
       "5     honeycrisp apple\n",
       "6               tomato\n",
       "7           watermelon\n",
       "8             honeydew\n",
       "12               mango\n",
       "13           blueberry\n",
       "14          blackberry\n",
       "15          gooseberry\n",
       "16              papaya\n",
       "dtype: object"
      ]
     },
     "execution_count": 144,
     "metadata": {},
     "output_type": "execute_result"
    }
   ],
   "source": [
    "fruits[fruits.apply(len) >= 5]"
   ]
  },
  {
   "cell_type": "code",
   "execution_count": null,
   "id": "0fc83e81",
   "metadata": {},
   "outputs": [],
   "source": [
    "''' 6. Use the .apply method with a lambda function to find the fruit(s) containing the letter \"o\" two or more times.'''\n",
    "\n"
   ]
  },
  {
   "cell_type": "code",
   "execution_count": 154,
   "id": "2dee8742",
   "metadata": {},
   "outputs": [
    {
     "data": {
      "text/plain": [
       "6         tomato\n",
       "15    gooseberry\n",
       "dtype: object"
      ]
     },
     "execution_count": 154,
     "metadata": {},
     "output_type": "execute_result"
    }
   ],
   "source": [
    "fruits[fruits.apply(lambda fruit: fruit.count('o') > 1)]"
   ]
  },
  {
   "cell_type": "code",
   "execution_count": null,
   "id": "fbaf5e55",
   "metadata": {},
   "outputs": [],
   "source": [
    "''' 7. Write the code to get only the string values containing the substring \"berry\".'''"
   ]
  },
  {
   "cell_type": "code",
   "execution_count": 146,
   "id": "d366992d",
   "metadata": {},
   "outputs": [
    {
     "data": {
      "text/plain": [
       "2     strawberry\n",
       "13     blueberry\n",
       "14    blackberry\n",
       "15    gooseberry\n",
       "dtype: object"
      ]
     },
     "execution_count": 146,
     "metadata": {},
     "output_type": "execute_result"
    }
   ],
   "source": [
    "fruits[fruits.str.contains('berry')]"
   ]
  },
  {
   "cell_type": "code",
   "execution_count": null,
   "id": "70fd6cc8",
   "metadata": {},
   "outputs": [],
   "source": [
    "''' 8. Write the code to get only the string values containing the substring \"apple\".'''\n"
   ]
  },
  {
   "cell_type": "code",
   "execution_count": 147,
   "id": "18864371",
   "metadata": {},
   "outputs": [
    {
     "data": {
      "text/plain": [
       "3           pineapple\n",
       "4          gala apple\n",
       "5    honeycrisp apple\n",
       "dtype: object"
      ]
     },
     "execution_count": 147,
     "metadata": {},
     "output_type": "execute_result"
    }
   ],
   "source": [
    "fruits[fruits.str.contains('apple')]"
   ]
  },
  {
   "cell_type": "code",
   "execution_count": null,
   "id": "e7570a28",
   "metadata": {},
   "outputs": [],
   "source": [
    "\n",
    "''' 9. Which string value contains the most vowels?'''"
   ]
  },
  {
   "cell_type": "code",
   "execution_count": 149,
   "id": "7bb0f307",
   "metadata": {},
   "outputs": [
    {
     "data": {
      "text/plain": [
       "'honeycrisp apple'"
      ]
     },
     "execution_count": 149,
     "metadata": {},
     "output_type": "execute_result"
    }
   ],
   "source": [
    "fruits[fruits.apply(contains_vowels).idxmax()]"
   ]
  },
  {
   "cell_type": "markdown",
   "id": "1ced0528",
   "metadata": {},
   "source": [
    "# Exercise III\n"
   ]
  },
  {
   "cell_type": "code",
   "execution_count": null,
   "id": "137549d0",
   "metadata": {},
   "outputs": [],
   "source": [
    "#Use pandas to create a Series named letters from the following string:\n",
    "\n"
   ]
  },
  {
   "cell_type": "code",
   "execution_count": 156,
   "id": "25979ce0",
   "metadata": {},
   "outputs": [
    {
     "data": {
      "text/plain": [
       "0    hnvidduckkqxwymbimkccexbkmqygkxoyndmcxnwqarhyf...\n",
       "dtype: object"
      ]
     },
     "execution_count": 156,
     "metadata": {},
     "output_type": "execute_result"
    }
   ],
   "source": [
    "letters =  ['hnvidduckkqxwymbimkccexbkmqygkxoyndmcxnwqarhyffsjpsrabtjzsypmzadfavyrnndndvswreauxovncxtwzpwejilzjrmmbbgbyxvjtewqthafnbkqplarokkyydtubbmnexoypulzwfhqvckdpqtpoppzqrmcvhhpwgjwupgzhiofohawytlsiyecuproguy']\n",
    "letters = pd.Series(letters)\n",
    "letters\n"
   ]
  },
  {
   "cell_type": "code",
   "execution_count": 157,
   "id": "595b2500",
   "metadata": {},
   "outputs": [
    {
     "data": {
      "text/plain": [
       "dtype('O')"
      ]
     },
     "execution_count": 157,
     "metadata": {},
     "output_type": "execute_result"
    }
   ],
   "source": [
    "' 1. Which letter occurs the most frequently in the letters Series?'\n",
    "\n"
   ]
  },
  {
   "cell_type": "code",
   "execution_count": 158,
   "id": "52535632",
   "metadata": {},
   "outputs": [
    {
     "data": {
      "text/plain": [
       "1"
      ]
     },
     "execution_count": 158,
     "metadata": {},
     "output_type": "execute_result"
    }
   ],
   "source": [
    "\n",
    "'2. Which letter occurs the Least frequently? ?'\n",
    "\n",
    "letters.count()"
   ]
  },
  {
   "cell_type": "code",
   "execution_count": null,
   "id": "a2585554",
   "metadata": {},
   "outputs": [],
   "source": [
    "' 3. How many vowels are in the Series?'\n",
    "\n"
   ]
  },
  {
   "cell_type": "code",
   "execution_count": null,
   "id": "3de3d0f9",
   "metadata": {},
   "outputs": [],
   "source": [
    "' 4. How many consonants are in the Series?'\n",
    "\n",
    "\n",
    "\n",
    "\n"
   ]
  },
  {
   "cell_type": "code",
   "execution_count": null,
   "id": "4533a11e",
   "metadata": {},
   "outputs": [],
   "source": [
    "' 5. Create a Series that has all of the same letters but uppercased.'"
   ]
  },
  {
   "cell_type": "code",
   "execution_count": null,
   "id": "a8cb0c67",
   "metadata": {},
   "outputs": [],
   "source": [
    "' 6. Create a bar plot of the frequencies of the 6 most commonly occuring letters.?'\n",
    "\n",
    "\n"
   ]
  },
  {
   "cell_type": "markdown",
   "id": "e992a21c",
   "metadata": {},
   "source": [
    "# Use pandas to create a Series named numbers from the following list:"
   ]
  },
  {
   "cell_type": "code",
   "execution_count": null,
   "id": "56496e97",
   "metadata": {},
   "outputs": [],
   "source": [
    "  ['$796,459.41', '$278.60', '$482,571.67', '$4,503,915.98', '$2,121,418.3', '$1,260,813.3', '$87,231.01', '$1,509,175.45', '$4,138,548.00', '$2,848,913.80', '$594,715.39', '$4,789,988.17', '$4,513,644.5', '$3,191,059.97', '$1,758,712.24', '$4,338,283.54', '$4,738,303.38', '$2,791,759.67', '$769,681.94', '$452,650.23']"
   ]
  },
  {
   "cell_type": "code",
   "execution_count": null,
   "id": "0d275f62",
   "metadata": {},
   "outputs": [],
   "source": [
    "'1. What is the data type of the numbers Series?'\n",
    "\n"
   ]
  },
  {
   "cell_type": "code",
   "execution_count": null,
   "id": "5832b3d3",
   "metadata": {},
   "outputs": [],
   "source": [
    "'2. How many elements are in the number Series?'\n",
    "\n"
   ]
  },
  {
   "cell_type": "code",
   "execution_count": null,
   "id": "fcf9fe21",
   "metadata": {},
   "outputs": [],
   "source": [
    "' 3. Perform the necessary manipulations by accessing Series attributes and methods to convert the numbers Series to a numeric data type.'\n",
    "\n"
   ]
  },
  {
   "cell_type": "code",
   "execution_count": null,
   "id": "2438f13a",
   "metadata": {},
   "outputs": [],
   "source": [
    "' 4. Run the code to discover the maximum value from the Series.'\n",
    "\n"
   ]
  },
  {
   "cell_type": "code",
   "execution_count": null,
   "id": "63970e96",
   "metadata": {},
   "outputs": [],
   "source": [
    "' 5. Run the code to discover the minimum value from the Series.'\n",
    "\n"
   ]
  },
  {
   "cell_type": "code",
   "execution_count": null,
   "id": "07f314d1",
   "metadata": {},
   "outputs": [],
   "source": [
    "' 6. What is the range of the values in the Series?'"
   ]
  },
  {
   "cell_type": "code",
   "execution_count": null,
   "id": "b4095a1a",
   "metadata": {},
   "outputs": [],
   "source": [
    "' 7. Bin the data into 4 equally sized intervals or bins and output how many values fall into each bin.'\n",
    "\n",
    "\n"
   ]
  },
  {
   "cell_type": "code",
   "execution_count": null,
   "id": "496b02aa",
   "metadata": {},
   "outputs": [],
   "source": [
    "' 8. Plot the binned data in a meaningful way. Be sure to include a title and axis labels.\n",
    "'\n"
   ]
  },
  {
   "cell_type": "code",
   "execution_count": null,
   "id": "dd420d24",
   "metadata": {},
   "outputs": [],
   "source": [
    "\n",
    "\n"
   ]
  },
  {
   "cell_type": "code",
   "execution_count": null,
   "id": "de919244",
   "metadata": {},
   "outputs": [],
   "source": []
  },
  {
   "cell_type": "code",
   "execution_count": null,
   "id": "bac7b399",
   "metadata": {},
   "outputs": [],
   "source": []
  },
  {
   "cell_type": "code",
   "execution_count": null,
   "id": "cf76a9cc",
   "metadata": {},
   "outputs": [],
   "source": []
  }
 ],
 "metadata": {
  "kernelspec": {
   "display_name": "Python 3",
   "language": "python",
   "name": "python3"
  },
  "language_info": {
   "codemirror_mode": {
    "name": "ipython",
    "version": 3
   },
   "file_extension": ".py",
   "mimetype": "text/x-python",
   "name": "python",
   "nbconvert_exporter": "python",
   "pygments_lexer": "ipython3",
   "version": "3.8.8"
  }
 },
 "nbformat": 4,
 "nbformat_minor": 5
}
