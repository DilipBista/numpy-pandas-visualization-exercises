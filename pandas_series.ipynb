{
 "cells": [
  {
   "cell_type": "code",
   "execution_count": 9,
   "id": "987a5e6c",
   "metadata": {},
   "outputs": [],
   "source": [
    "import numpy as np\n",
    "import pandas as pd\n",
    "import matplotlib.pyplot as plt"
   ]
  },
  {
   "cell_type": "markdown",
   "id": "734fd272",
   "metadata": {},
   "source": [
    "# Exercises Part I "
   ]
  },
  {
   "cell_type": "code",
   "execution_count": null,
   "id": "4053b810",
   "metadata": {},
   "outputs": [],
   "source": [
    "  [\"kiwi\", \"mango\", \"strawberry\", \"pineapple\", \"gala apple\", \"honeycrisp apple\", \"tomato\", \"watermelon\", \"honeydew\", \"kiwi\", \"kiwi\", \"kiwi\", \"mango\", \"blueberry\", \"blackberry\", \"gooseberry\", \"papaya\"]"
   ]
  },
  {
   "cell_type": "code",
   "execution_count": 70,
   "id": "f04ca8eb",
   "metadata": {},
   "outputs": [
    {
     "data": {
      "text/plain": [
       "0                 kiwi\n",
       "1                mango\n",
       "2           strawberry\n",
       "3            pineapple\n",
       "4           gala apple\n",
       "5     honeycrisp apple\n",
       "6               tomato\n",
       "7           watermelon\n",
       "8             honeydew\n",
       "9                 kiwi\n",
       "10                kiwi\n",
       "11                kiwi\n",
       "12               mango\n",
       "13           blueberry\n",
       "14          blackberry\n",
       "15          gooseberry\n",
       "16              papaya\n",
       "dtype: object"
      ]
     },
     "execution_count": 70,
     "metadata": {},
     "output_type": "execute_result"
    }
   ],
   "source": [
    "fruits =    [\"kiwi\", \"mango\", \"strawberry\", \"pineapple\", \"gala apple\", \"honeycrisp apple\", \"tomato\", \"watermelon\", \"honeydew\", \"kiwi\", \"kiwi\", \"kiwi\", \"mango\", \"blueberry\", \"blackberry\", \"gooseberry\", \"papaya\"]\n",
    "\n",
    "fruits_series = pd.Series(fruits)\n",
    "fruits_series"
   ]
  },
  {
   "cell_type": "code",
   "execution_count": null,
   "id": "e93dee45",
   "metadata": {},
   "outputs": [],
   "source": [
    "''' 1. Determine the number of elements in fruits. '''\n"
   ]
  },
  {
   "cell_type": "code",
   "execution_count": 77,
   "id": "45fbbb46",
   "metadata": {},
   "outputs": [
    {
     "data": {
      "text/plain": [
       "17"
      ]
     },
     "execution_count": 77,
     "metadata": {},
     "output_type": "execute_result"
    }
   ],
   "source": [
    "fruits_series = pd.Series(fruits)\n",
    "fruits_series.size\n"
   ]
  },
  {
   "cell_type": "code",
   "execution_count": null,
   "id": "0175a011",
   "metadata": {},
   "outputs": [],
   "source": [
    "'''2. Output only the index from fruits.'''\n",
    "\n",
    "\n"
   ]
  },
  {
   "cell_type": "code",
   "execution_count": 17,
   "id": "dacabdca",
   "metadata": {},
   "outputs": [
    {
     "data": {
      "text/plain": [
       "RangeIndex(start=0, stop=17, step=1)"
      ]
     },
     "execution_count": 17,
     "metadata": {},
     "output_type": "execute_result"
    }
   ],
   "source": [
    "fruits_series.index"
   ]
  },
  {
   "cell_type": "code",
   "execution_count": 18,
   "id": "d183eded",
   "metadata": {},
   "outputs": [
    {
     "data": {
      "text/plain": [
       "array(['kiwi', 'mango', 'strawberry', 'pineapple', 'gala apple',\n",
       "       'honeycrisp apple', 'tomato', 'watermelon', 'honeydew', 'kiwi',\n",
       "       'kiwi', 'kiwi', 'mango', 'blueberry', 'blackberry', 'gooseberry',\n",
       "       'papaya'], dtype=object)"
      ]
     },
     "execution_count": 18,
     "metadata": {},
     "output_type": "execute_result"
    }
   ],
   "source": [
    "'''3. Output only the values from fruits.'''\n",
    "\n",
    "fruits_series.values"
   ]
  },
  {
   "cell_type": "code",
   "execution_count": null,
   "id": "dfedb192",
   "metadata": {},
   "outputs": [],
   "source": [
    "''' 4. Confirm the data type of the values in fruits.'''"
   ]
  },
  {
   "cell_type": "code",
   "execution_count": 20,
   "id": "8dcd0f90",
   "metadata": {},
   "outputs": [
    {
     "data": {
      "text/plain": [
       "dtype('O')"
      ]
     },
     "execution_count": 20,
     "metadata": {},
     "output_type": "execute_result"
    }
   ],
   "source": [
    "fruits_series.dtype"
   ]
  },
  {
   "cell_type": "code",
   "execution_count": null,
   "id": "51927352",
   "metadata": {},
   "outputs": [],
   "source": [
    "\n",
    "''' 5. Determine the string value that occurs least frequently in fruits.'''"
   ]
  },
  {
   "cell_type": "code",
   "execution_count": 78,
   "id": "955d3ef6",
   "metadata": {},
   "outputs": [
    {
     "data": {
      "text/plain": [
       "blueberry           1\n",
       "tomato              1\n",
       "watermelon          1\n",
       "gala apple          1\n",
       "strawberry          1\n",
       "pineapple           1\n",
       "honeycrisp apple    1\n",
       "papaya              1\n",
       "blackberry          1\n",
       "honeydew            1\n",
       "gooseberry          1\n",
       "dtype: int64"
      ]
     },
     "execution_count": 78,
     "metadata": {},
     "output_type": "execute_result"
    }
   ],
   "source": [
    "fruits_series.value_counts().nsmallest(n=1, keep ='all')"
   ]
  },
  {
   "cell_type": "code",
   "execution_count": 22,
   "id": "b710e5c7",
   "metadata": {},
   "outputs": [
    {
     "data": {
      "text/plain": [
       "kiwi                4\n",
       "mango               2\n",
       "blueberry           1\n",
       "tomato              1\n",
       "watermelon          1\n",
       "gala apple          1\n",
       "strawberry          1\n",
       "pineapple           1\n",
       "honeycrisp apple    1\n",
       "papaya              1\n",
       "blackberry          1\n",
       "honeydew            1\n",
       "gooseberry          1\n",
       "dtype: int64"
      ]
     },
     "execution_count": 22,
     "metadata": {},
     "output_type": "execute_result"
    }
   ],
   "source": [
    "least_fruits = fruits_series.value_counts()\n",
    "least_fruits"
   ]
  },
  {
   "cell_type": "code",
   "execution_count": null,
   "id": "543d9f9b",
   "metadata": {},
   "outputs": [],
   "source": [
    "''' 6. Output only the first five values from fruits. Output the last three values. Output two random values from fruits.\n",
    "\n",
    "Run the .describe() on fruits to see what information it returns when called on a Series with string values.\n",
    "\n",
    "'''"
   ]
  },
  {
   "cell_type": "code",
   "execution_count": 34,
   "id": "d19c35c8",
   "metadata": {},
   "outputs": [
    {
     "name": "stdout",
     "output_type": "stream",
     "text": [
      "['kiwi' 'mango' 'strawberry' 'pineapple' 'gala apple']\n",
      "['blackberry' 'gooseberry' 'papaya']\n",
      "5     honeycrisp apple\n",
      "16              papaya\n",
      "dtype: object\n"
     ]
    },
    {
     "data": {
      "text/plain": [
       "count       17\n",
       "unique      13\n",
       "top       kiwi\n",
       "freq         4\n",
       "dtype: object"
      ]
     },
     "execution_count": 34,
     "metadata": {},
     "output_type": "execute_result"
    }
   ],
   "source": [
    "head_count= fruits_series.head()\n",
    "head_count\n",
    "first_five= head_count.values\n",
    "print(first_five)\n",
    "\n",
    "tail_count = fruits_series.tail(3)\n",
    "last_three = tail_count.values\n",
    "print(last_three)\n",
    "\n",
    "two_random= fruits_series.sample(2)\n",
    "print(two_random)\n",
    "\n",
    "fruits_series.describe()\n"
   ]
  },
  {
   "cell_type": "code",
   "execution_count": null,
   "id": "68e486c7",
   "metadata": {},
   "outputs": [],
   "source": [
    "'''7. Run the code necessary to produce only the unique string values from fruits.'''"
   ]
  },
  {
   "cell_type": "code",
   "execution_count": 53,
   "id": "29fd118d",
   "metadata": {},
   "outputs": [
    {
     "data": {
      "text/plain": [
       "array(['kiwi', 'mango', 'strawberry', 'pineapple', 'gala apple',\n",
       "       'honeycrisp apple', 'tomato', 'watermelon', 'honeydew',\n",
       "       'blueberry', 'blackberry', 'gooseberry', 'papaya'], dtype=object)"
      ]
     },
     "execution_count": 53,
     "metadata": {},
     "output_type": "execute_result"
    }
   ],
   "source": [
    "unique_string= fruits_series.unique()\n",
    "unique_string\n"
   ]
  },
  {
   "cell_type": "code",
   "execution_count": 61,
   "id": "754ce144",
   "metadata": {},
   "outputs": [
    {
     "data": {
      "text/plain": [
       "13"
      ]
     },
     "execution_count": 61,
     "metadata": {},
     "output_type": "execute_result"
    }
   ],
   "source": [
    "' count unique'\n",
    "fruits_series.nunique()"
   ]
  },
  {
   "cell_type": "code",
   "execution_count": null,
   "id": "408961ac",
   "metadata": {},
   "outputs": [],
   "source": [
    "''' 9. Determine how many times each unique string value occurs in fruits.'''"
   ]
  },
  {
   "cell_type": "code",
   "execution_count": 57,
   "id": "3be1f5ef",
   "metadata": {},
   "outputs": [
    {
     "data": {
      "text/plain": [
       "count       17\n",
       "unique      13\n",
       "top       kiwi\n",
       "freq         4\n",
       "dtype: object"
      ]
     },
     "execution_count": 57,
     "metadata": {},
     "output_type": "execute_result"
    }
   ],
   "source": [
    "\n",
    "fruits_series.sort_values()\n",
    "\n",
    "fruits_series.describe()\n",
    "\n"
   ]
  },
  {
   "cell_type": "code",
   "execution_count": null,
   "id": "9c5512a4",
   "metadata": {},
   "outputs": [],
   "source": []
  },
  {
   "cell_type": "code",
   "execution_count": null,
   "id": "20bb82f2",
   "metadata": {},
   "outputs": [],
   "source": [
    "'''10. Determine the string value that occurs most frequently in fruits.'''"
   ]
  },
  {
   "cell_type": "code",
   "execution_count": 58,
   "id": "cb894797",
   "metadata": {},
   "outputs": [
    {
     "data": {
      "text/plain": [
       "count       17\n",
       "unique      13\n",
       "top       kiwi\n",
       "freq         4\n",
       "dtype: object"
      ]
     },
     "execution_count": 58,
     "metadata": {},
     "output_type": "execute_result"
    }
   ],
   "source": [
    "fruits_series.describe()\n"
   ]
  },
  {
   "cell_type": "code",
   "execution_count": 63,
   "id": "f6356190",
   "metadata": {},
   "outputs": [
    {
     "data": {
      "text/plain": [
       "kiwi                4\n",
       "mango               2\n",
       "blueberry           1\n",
       "tomato              1\n",
       "watermelon          1\n",
       "gala apple          1\n",
       "strawberry          1\n",
       "pineapple           1\n",
       "honeycrisp apple    1\n",
       "papaya              1\n",
       "blackberry          1\n",
       "honeydew            1\n",
       "gooseberry          1\n",
       "dtype: int64"
      ]
     },
     "execution_count": 63,
     "metadata": {},
     "output_type": "execute_result"
    }
   ],
   "source": [
    "fruits_series.value_counts()"
   ]
  },
  {
   "cell_type": "code",
   "execution_count": 65,
   "id": "ddfe18a1",
   "metadata": {},
   "outputs": [
    {
     "data": {
      "text/plain": [
       "'kiwi'"
      ]
     },
     "execution_count": 65,
     "metadata": {},
     "output_type": "execute_result"
    }
   ],
   "source": [
    "fruits_series.value_counts().idxmax()"
   ]
  },
  {
   "cell_type": "code",
   "execution_count": 66,
   "id": "3d4812b5",
   "metadata": {},
   "outputs": [
    {
     "data": {
      "text/plain": [
       "kiwi    4\n",
       "dtype: int64"
      ]
     },
     "execution_count": 66,
     "metadata": {},
     "output_type": "execute_result"
    }
   ],
   "source": [
    "fruits_series.value_counts().nlargest(n =1, keep = 'all') # read docs "
   ]
  },
  {
   "cell_type": "code",
   "execution_count": null,
   "id": "8c94a521",
   "metadata": {},
   "outputs": [],
   "source": [
    "''' Determine the string value that occurs least frequently in fruits.'''"
   ]
  },
  {
   "cell_type": "code",
   "execution_count": 67,
   "id": "de29d2b5",
   "metadata": {},
   "outputs": [
    {
     "data": {
      "text/plain": [
       "blueberry           1\n",
       "tomato              1\n",
       "watermelon          1\n",
       "gala apple          1\n",
       "strawberry          1\n",
       "pineapple           1\n",
       "honeycrisp apple    1\n",
       "papaya              1\n",
       "blackberry          1\n",
       "honeydew            1\n",
       "gooseberry          1\n",
       "dtype: int64"
      ]
     },
     "execution_count": 67,
     "metadata": {},
     "output_type": "execute_result"
    }
   ],
   "source": [
    "fruits_series.value_counts().nsmallest(n=1, keep ='all')"
   ]
  },
  {
   "cell_type": "markdown",
   "id": "c39f9f58",
   "metadata": {},
   "source": [
    "# Exercises Part II\n",
    "\n",
    "Explore more attributes and methods while you continue to work with the fruits Series."
   ]
  },
  {
   "cell_type": "code",
   "execution_count": 130,
   "id": "322f2580",
   "metadata": {},
   "outputs": [
    {
     "data": {
      "text/plain": [
       "['kiwi',\n",
       " 'mango',\n",
       " 'strawberry',\n",
       " 'pineapple',\n",
       " 'gala apple',\n",
       " 'honeycrisp apple',\n",
       " 'tomato',\n",
       " 'watermelon',\n",
       " 'honeydew',\n",
       " 'kiwi',\n",
       " 'kiwi',\n",
       " 'kiwi',\n",
       " 'mango',\n",
       " 'blueberry',\n",
       " 'blackberry',\n",
       " 'gooseberry',\n",
       " 'papaya']"
      ]
     },
     "execution_count": 130,
     "metadata": {},
     "output_type": "execute_result"
    }
   ],
   "source": [
    "fruits =    [\"kiwi\", \"mango\", \"strawberry\", \"pineapple\", \"gala apple\", \"honeycrisp apple\", \"tomato\", \"watermelon\", \"honeydew\", \"kiwi\", \"kiwi\", \"kiwi\", \"mango\", \"blueberry\", \"blackberry\", \"gooseberry\", \"papaya\"]\n"
   ]
  },
  {
   "cell_type": "code",
   "execution_count": 139,
   "id": "ae55b931",
   "metadata": {},
   "outputs": [
    {
     "data": {
      "text/plain": [
       "0                 kiwi\n",
       "1                mango\n",
       "2           strawberry\n",
       "3            pineapple\n",
       "4           gala apple\n",
       "5     honeycrisp apple\n",
       "6               tomato\n",
       "7           watermelon\n",
       "8             honeydew\n",
       "9                 kiwi\n",
       "10                kiwi\n",
       "11                kiwi\n",
       "12               mango\n",
       "13           blueberry\n",
       "14          blackberry\n",
       "15          gooseberry\n",
       "16              papaya\n",
       "dtype: object"
      ]
     },
     "execution_count": 139,
     "metadata": {},
     "output_type": "execute_result"
    }
   ],
   "source": [
    "fruits= pd.Series(fruits)\n",
    "fruits"
   ]
  },
  {
   "cell_type": "code",
   "execution_count": 79,
   "id": "a6cc2850",
   "metadata": {},
   "outputs": [
    {
     "data": {
      "text/plain": [
       "0                 KIWI\n",
       "1                MANGO\n",
       "2           STRAWBERRY\n",
       "3            PINEAPPLE\n",
       "4           GALA APPLE\n",
       "5     HONEYCRISP APPLE\n",
       "6               TOMATO\n",
       "7           WATERMELON\n",
       "8             HONEYDEW\n",
       "9                 KIWI\n",
       "10                KIWI\n",
       "11                KIWI\n",
       "12               MANGO\n",
       "13           BLUEBERRY\n",
       "14          BLACKBERRY\n",
       "15          GOOSEBERRY\n",
       "16              PAPAYA\n",
       "dtype: object"
      ]
     },
     "execution_count": 79,
     "metadata": {},
     "output_type": "execute_result"
    }
   ],
   "source": [
    "''' 1. Capitalize all the string values in fruits.'''\n",
    "\n",
    "fruits_series.str.upper()\n"
   ]
  },
  {
   "cell_type": "code",
   "execution_count": 83,
   "id": "154465e0",
   "metadata": {},
   "outputs": [
    {
     "data": {
      "text/plain": [
       "0     0\n",
       "1     1\n",
       "2     1\n",
       "3     1\n",
       "4     3\n",
       "5     1\n",
       "6     1\n",
       "7     1\n",
       "8     0\n",
       "9     0\n",
       "10    0\n",
       "11    0\n",
       "12    1\n",
       "13    0\n",
       "14    1\n",
       "15    0\n",
       "16    3\n",
       "dtype: int64"
      ]
     },
     "execution_count": 83,
     "metadata": {},
     "output_type": "execute_result"
    }
   ],
   "source": [
    "\n",
    "''' 2. Count the letter \"a\" in all the string values (use string vectorization).'''\n",
    "\n",
    "fruits_series.str.count('a')"
   ]
  },
  {
   "cell_type": "code",
   "execution_count": null,
   "id": "722161e7",
   "metadata": {},
   "outputs": [],
   "source": [
    "''' 3. Output the number of vowels in each and every string value.'''"
   ]
  },
  {
   "cell_type": "code",
   "execution_count": 140,
   "id": "1117d513",
   "metadata": {},
   "outputs": [
    {
     "data": {
      "text/plain": [
       "0     2\n",
       "1     2\n",
       "2     2\n",
       "3     4\n",
       "4     4\n",
       "5     5\n",
       "6     3\n",
       "7     4\n",
       "8     3\n",
       "9     2\n",
       "10    2\n",
       "11    2\n",
       "12    2\n",
       "13    3\n",
       "14    2\n",
       "15    4\n",
       "16    3\n",
       "dtype: int64"
      ]
     },
     "execution_count": 140,
     "metadata": {},
     "output_type": "execute_result"
    }
   ],
   "source": [
    "\n",
    "def contains_vowels(fruits):\n",
    "    num_vowels = 0\n",
    "    for alpha in fruits:\n",
    "        if alpha in \"aeiouAEIOU\":\n",
    "            num_vowels= num_vowels+1\n",
    "    return num_vowels\n",
    "fruits.apply(contains_vowels)  "
   ]
  },
  {
   "cell_type": "code",
   "execution_count": null,
   "id": "73cfdf36",
   "metadata": {},
   "outputs": [],
   "source": [
    "''' 4. Write the code to get the longest string value from fruits.'''\n"
   ]
  },
  {
   "cell_type": "code",
   "execution_count": 152,
   "id": "5c4feae2",
   "metadata": {},
   "outputs": [
    {
     "data": {
      "text/plain": [
       "'honeycrisp apple'"
      ]
     },
     "execution_count": 152,
     "metadata": {},
     "output_type": "execute_result"
    }
   ],
   "source": [
    "longest_string = fruits.apply(len).idxmax()\n",
    "fruits[longest_string]"
   ]
  },
  {
   "cell_type": "code",
   "execution_count": null,
   "id": "80a5ce89",
   "metadata": {},
   "outputs": [],
   "source": [
    "''' 5. Write the code to get the string values with 5 or more letters in the name.'''\n",
    "\n"
   ]
  },
  {
   "cell_type": "code",
   "execution_count": 144,
   "id": "98b3fe7a",
   "metadata": {},
   "outputs": [
    {
     "data": {
      "text/plain": [
       "1                mango\n",
       "2           strawberry\n",
       "3            pineapple\n",
       "4           gala apple\n",
       "5     honeycrisp apple\n",
       "6               tomato\n",
       "7           watermelon\n",
       "8             honeydew\n",
       "12               mango\n",
       "13           blueberry\n",
       "14          blackberry\n",
       "15          gooseberry\n",
       "16              papaya\n",
       "dtype: object"
      ]
     },
     "execution_count": 144,
     "metadata": {},
     "output_type": "execute_result"
    }
   ],
   "source": [
    "fruits[fruits.apply(len) >= 5]"
   ]
  },
  {
   "cell_type": "code",
   "execution_count": null,
   "id": "79b40fe4",
   "metadata": {},
   "outputs": [],
   "source": [
    "''' 6. Use the .apply method with a lambda function to find the fruit(s) containing the letter \"o\" two or more times.'''\n",
    "\n"
   ]
  },
  {
   "cell_type": "code",
   "execution_count": 154,
   "id": "e02846f5",
   "metadata": {},
   "outputs": [
    {
     "data": {
      "text/plain": [
       "6         tomato\n",
       "15    gooseberry\n",
       "dtype: object"
      ]
     },
     "execution_count": 154,
     "metadata": {},
     "output_type": "execute_result"
    }
   ],
   "source": [
    "fruits[fruits.apply(lambda fruit: fruit.count('o') > 1)]"
   ]
  },
  {
   "cell_type": "code",
   "execution_count": null,
   "id": "b0357985",
   "metadata": {},
   "outputs": [],
   "source": [
    "''' 7. Write the code to get only the string values containing the substring \"berry\".'''"
   ]
  },
  {
   "cell_type": "code",
   "execution_count": 146,
   "id": "3e86c16b",
   "metadata": {},
   "outputs": [
    {
     "data": {
      "text/plain": [
       "2     strawberry\n",
       "13     blueberry\n",
       "14    blackberry\n",
       "15    gooseberry\n",
       "dtype: object"
      ]
     },
     "execution_count": 146,
     "metadata": {},
     "output_type": "execute_result"
    }
   ],
   "source": [
    "fruits[fruits.str.contains('berry')]"
   ]
  },
  {
   "cell_type": "code",
   "execution_count": null,
   "id": "a348c483",
   "metadata": {},
   "outputs": [],
   "source": [
    "''' 8. Write the code to get only the string values containing the substring \"apple\".'''\n"
   ]
  },
  {
   "cell_type": "code",
   "execution_count": 147,
   "id": "155c08d3",
   "metadata": {},
   "outputs": [
    {
     "data": {
      "text/plain": [
       "3           pineapple\n",
       "4          gala apple\n",
       "5    honeycrisp apple\n",
       "dtype: object"
      ]
     },
     "execution_count": 147,
     "metadata": {},
     "output_type": "execute_result"
    }
   ],
   "source": [
    "fruits[fruits.str.contains('apple')]"
   ]
  },
  {
   "cell_type": "code",
   "execution_count": null,
   "id": "9b26e4cf",
   "metadata": {},
   "outputs": [],
   "source": [
    "\n",
    "''' 9. Which string value contains the most vowels?'''"
   ]
  },
  {
   "cell_type": "code",
   "execution_count": 149,
   "id": "6c11c9d0",
   "metadata": {},
   "outputs": [
    {
     "data": {
      "text/plain": [
       "'honeycrisp apple'"
      ]
     },
     "execution_count": 149,
     "metadata": {},
     "output_type": "execute_result"
    }
   ],
   "source": [
    "fruits[fruits.apply(contains_vowels).idxmax()]"
   ]
  },
  {
   "cell_type": "markdown",
   "id": "62253dbc",
   "metadata": {},
   "source": [
    "# Exercise III\n"
   ]
  },
  {
   "cell_type": "code",
   "execution_count": null,
   "id": "35132f7e",
   "metadata": {},
   "outputs": [],
   "source": [
    "#Use pandas to create a Series named letters from the following string:\n",
    "\n"
   ]
  },
  {
   "cell_type": "code",
   "execution_count": 12,
   "id": "ddadd87b",
   "metadata": {},
   "outputs": [
    {
     "data": {
      "text/plain": [
       "0    200\n",
       "dtype: int64"
      ]
     },
     "execution_count": 12,
     "metadata": {},
     "output_type": "execute_result"
    }
   ],
   "source": [
    "string =  'hnvidduckkqxwymbimkccexbkmqygkxoyndmcxnwqarhyffsjpsrabtjzsypmzadfavyrnndndvswreauxovncxtwzpwejilzjrmmbbgbyxvjtewqthafnbkqplarokkyydtubbmnexoypulzwfhqvckdpqtpoppzqrmcvhhpwgjwupgzhiofohawytlsiyecuproguy'\n",
    "\n",
    "letters = pd.Series(len(string))\n",
    "letters\n"
   ]
  },
  {
   "cell_type": "code",
   "execution_count": 15,
   "id": "6aad1ac0",
   "metadata": {},
   "outputs": [
    {
     "data": {
      "text/plain": [
       "0      h\n",
       "1      n\n",
       "2      v\n",
       "3      i\n",
       "4      d\n",
       "      ..\n",
       "195    r\n",
       "196    o\n",
       "197    g\n",
       "198    u\n",
       "199    y\n",
       "Length: 200, dtype: object"
      ]
     },
     "execution_count": 15,
     "metadata": {},
     "output_type": "execute_result"
    }
   ],
   "source": [
    "\n",
    "letters = pd.Series(list(string))\n",
    "letters"
   ]
  },
  {
   "cell_type": "code",
   "execution_count": 16,
   "id": "596e1c15",
   "metadata": {},
   "outputs": [
    {
     "data": {
      "text/plain": [
       "y    13\n",
       "dtype: int64"
      ]
     },
     "execution_count": 16,
     "metadata": {},
     "output_type": "execute_result"
    }
   ],
   "source": [
    "' 1. Which letter occurs the most frequently in the letters Series?'\n",
    "\n",
    "letters.value_counts().head(1)"
   ]
  },
  {
   "cell_type": "code",
   "execution_count": 17,
   "id": "d612323b",
   "metadata": {},
   "outputs": [
    {
     "data": {
      "text/plain": [
       "4"
      ]
     },
     "execution_count": 17,
     "metadata": {},
     "output_type": "execute_result"
    }
   ],
   "source": [
    "\n",
    "'2. Which letter occurs the Least frequently? ?'\n",
    "\n",
    "letters.value_counts().min()"
   ]
  },
  {
   "cell_type": "code",
   "execution_count": 18,
   "id": "6a86fa9d",
   "metadata": {},
   "outputs": [],
   "source": [
    "''' 3. How many vowels are in the Series?'''\n",
    "\n",
    "vowels = list('aeiou')\n"
   ]
  },
  {
   "cell_type": "code",
   "execution_count": 19,
   "id": "d1a66cbe",
   "metadata": {},
   "outputs": [
    {
     "data": {
      "text/plain": [
       "0      0\n",
       "1      0\n",
       "2      0\n",
       "3      1\n",
       "4      0\n",
       "      ..\n",
       "195    0\n",
       "196    1\n",
       "197    0\n",
       "198    1\n",
       "199    0\n",
       "Length: 200, dtype: int64"
      ]
     },
     "execution_count": 19,
     "metadata": {},
     "output_type": "execute_result"
    }
   ],
   "source": [
    "letters.str.lower().str.count('[aeiou]')"
   ]
  },
  {
   "cell_type": "code",
   "execution_count": 20,
   "id": "c7939983",
   "metadata": {},
   "outputs": [
    {
     "data": {
      "text/plain": [
       "34"
      ]
     },
     "execution_count": 20,
     "metadata": {},
     "output_type": "execute_result"
    }
   ],
   "source": [
    "letters.str.lower().str.count('[aeiou]').sum()"
   ]
  },
  {
   "cell_type": "code",
   "execution_count": 21,
   "id": "f7f1348b",
   "metadata": {},
   "outputs": [
    {
     "data": {
      "text/plain": [
       "166"
      ]
     },
     "execution_count": 21,
     "metadata": {},
     "output_type": "execute_result"
    }
   ],
   "source": [
    "''' 4. How many consonants are in the Series?'''\n",
    "\n",
    "total = letters.count()\n",
    "number_of_consonants = total - (letters.str.lower().isin(vowels)).sum()\n",
    "\n",
    "number_of_consonants"
   ]
  },
  {
   "cell_type": "code",
   "execution_count": null,
   "id": "51afcab0",
   "metadata": {},
   "outputs": [],
   "source": [
    "\n",
    "# 4  Identify and total the consonants in the Series\n",
    "\n",
    "letters.str.lower().str.count('[^aeiou]').sum()\n"
   ]
  },
  {
   "cell_type": "code",
   "execution_count": null,
   "id": "bee8976c",
   "metadata": {},
   "outputs": [],
   "source": [
    "' 5. Create a Series that has all of the same letters but uppercased.'"
   ]
  },
  {
   "cell_type": "code",
   "execution_count": 22,
   "id": "cf75f132",
   "metadata": {},
   "outputs": [
    {
     "data": {
      "text/plain": [
       "0      H\n",
       "1      N\n",
       "2      V\n",
       "3      I\n",
       "4      D\n",
       "      ..\n",
       "195    R\n",
       "196    O\n",
       "197    G\n",
       "198    U\n",
       "199    Y\n",
       "Length: 200, dtype: object"
      ]
     },
     "execution_count": 22,
     "metadata": {},
     "output_type": "execute_result"
    }
   ],
   "source": [
    "\n",
    "letters.str.upper()"
   ]
  },
  {
   "cell_type": "code",
   "execution_count": 23,
   "id": "a1015ee9",
   "metadata": {},
   "outputs": [
    {
     "data": {
      "text/plain": [
       "y    13\n",
       "p    12\n",
       "w    10\n",
       "k     9\n",
       "m     9\n",
       "n     9\n",
       "dtype: int64"
      ]
     },
     "execution_count": 23,
     "metadata": {},
     "output_type": "execute_result"
    }
   ],
   "source": [
    "''' 6. Create a bar plot of the frequencies of the 6 most commonly occuring letters.?'''\n",
    "\n",
    "letters.value_counts().head(6)\n",
    "\n",
    "\n"
   ]
  },
  {
   "cell_type": "code",
   "execution_count": 24,
   "id": "a82d9b31",
   "metadata": {},
   "outputs": [
    {
     "data": {
      "image/png": "[encoded data removed]",
      "text/plain": [
       "<Figure size 432x288 with 1 Axes>"
      ]
     },
     "metadata": {
      "needs_background": "light"
     },
     "output_type": "display_data"
    }
   ],
   "source": [
    "letters.value_counts().head(6).plot(kind='barh', \n",
    "                                    color='blue',                       \n",
    "                                    width=.5)\n",
    "\n",
    "plt.title('Top 6 Letters')\n",
    "\n",
    "# I wanted the most frequent letter at the top, so I chose to invert the y-axis.\n",
    "plt.gca().invert_yaxis()\n",
    "\n",
    "plt.show()"
   ]
  },
  {
   "cell_type": "markdown",
   "id": "3207934f",
   "metadata": {},
   "source": [
    "# Use pandas to create a Series named numbers from the following list:"
   ]
  },
  {
   "cell_type": "code",
   "execution_count": 200,
   "id": "8ad481f3",
   "metadata": {},
   "outputs": [],
   "source": [
    " numbers=  ['$796,459.41', '$278.60', '$482,571.67', '$4,503,915.98', '$2,121,418.3', '$1,260,813.3', '$87,231.01', '$1,509,175.45', '$4,138,548.00', '$2,848,913.80', '$594,715.39', '$4,789,988.17', '$4,513,644.5', '$3,191,059.97', '$1,758,712.24', '$4,338,283.54', '$4,738,303.38', '$2,791,759.67', '$769,681.94', '$452,650.23']"
   ]
  },
  {
   "cell_type": "code",
   "execution_count": 201,
   "id": "c028fb59",
   "metadata": {},
   "outputs": [],
   "source": [
    "numbers =pd.Series(numbers)"
   ]
  },
  {
   "cell_type": "code",
   "execution_count": 202,
   "id": "15a7b1bc",
   "metadata": {},
   "outputs": [
    {
     "data": {
      "text/plain": [
       "dtype('O')"
      ]
     },
     "execution_count": 202,
     "metadata": {},
     "output_type": "execute_result"
    }
   ],
   "source": [
    "'1. What is the data type of the numbers Series?'\n",
    "numbers.dtype\n"
   ]
  },
  {
   "cell_type": "code",
   "execution_count": 203,
   "id": "178b55c8",
   "metadata": {},
   "outputs": [
    {
     "data": {
      "text/plain": [
       "20"
      ]
     },
     "execution_count": 203,
     "metadata": {},
     "output_type": "execute_result"
    }
   ],
   "source": [
    "'2. How many elements are in the number Series?'\n",
    "elements = numbers.count()\n",
    "elements\n",
    "\n",
    "''' \n",
    "len(numbers)\n",
    "numbers.size\n",
    "'''"
   ]
  },
  {
   "cell_type": "code",
   "execution_count": 204,
   "id": "0c9423b0",
   "metadata": {},
   "outputs": [
    {
     "data": {
      "text/plain": [
       "0       $796,459.41\n",
       "1           $278.60\n",
       "2       $482,571.67\n",
       "3     $4,503,915.98\n",
       "4      $2,121,418.3\n",
       "5      $1,260,813.3\n",
       "6        $87,231.01\n",
       "7     $1,509,175.45\n",
       "8     $4,138,548.00\n",
       "9     $2,848,913.80\n",
       "10      $594,715.39\n",
       "11    $4,789,988.17\n",
       "12     $4,513,644.5\n",
       "13    $3,191,059.97\n",
       "14    $1,758,712.24\n",
       "15    $4,338,283.54\n",
       "16    $4,738,303.38\n",
       "17    $2,791,759.67\n",
       "18      $769,681.94\n",
       "19      $452,650.23\n",
       "dtype: object"
      ]
     },
     "execution_count": 204,
     "metadata": {},
     "output_type": "execute_result"
    }
   ],
   "source": [
    "numbers"
   ]
  },
  {
   "cell_type": "code",
   "execution_count": 212,
   "id": "a0d5213f",
   "metadata": {},
   "outputs": [
    {
     "data": {
      "text/plain": [
       "0      796459.41\n",
       "1         278.60\n",
       "2      482571.67\n",
       "3     4503915.98\n",
       "4     2121418.30\n",
       "5     1260813.30\n",
       "6       87231.01\n",
       "7     1509175.45\n",
       "8     4138548.00\n",
       "9     2848913.80\n",
       "10     594715.39\n",
       "11    4789988.17\n",
       "12    4513644.50\n",
       "13    3191059.97\n",
       "14    1758712.24\n",
       "15    4338283.54\n",
       "16    4738303.38\n",
       "17    2791759.67\n",
       "18     769681.94\n",
       "19     452650.23\n",
       "dtype: float64"
      ]
     },
     "execution_count": 212,
     "metadata": {},
     "output_type": "execute_result"
    }
   ],
   "source": [
    "' 3. Perform the necessary manipulations by accessing Series attributes and methods to convert the numbers Series to a numeric data type.'\n",
    "\n",
    "\n",
    "\n",
    "\n",
    "\n",
    "numbers_convert = numbers.astype(float)\n",
    "numbers_convert\n",
    "\n"
   ]
  },
  {
   "cell_type": "code",
   "execution_count": 214,
   "id": "a9cffe57",
   "metadata": {},
   "outputs": [
    {
     "data": {
      "text/plain": [
       "4789988.17"
      ]
     },
     "execution_count": 214,
     "metadata": {},
     "output_type": "execute_result"
    }
   ],
   "source": [
    "' 4. Run the code to discover the maximum value from the Series.'\n",
    "numbers_convert_max= numbers_convert.max()\n",
    "numbers_convert_max\n"
   ]
  },
  {
   "cell_type": "code",
   "execution_count": 215,
   "id": "ae8fedf2",
   "metadata": {},
   "outputs": [
    {
     "data": {
      "text/plain": [
       "278.6"
      ]
     },
     "execution_count": 215,
     "metadata": {},
     "output_type": "execute_result"
    }
   ],
   "source": [
    "' 5. Run the code to discover the minimum value from the Series.'\n",
    "numbers_convert_min = numbers_convert.min()\n",
    "numbers_convert_min"
   ]
  },
  {
   "cell_type": "code",
   "execution_count": null,
   "id": "dabd7b12",
   "metadata": {},
   "outputs": [],
   "source": [
    "' 6. What is the range of the values in the Series?'"
   ]
  },
  {
   "cell_type": "code",
   "execution_count": 282,
   "id": "c236a435",
   "metadata": {},
   "outputs": [
    {
     "data": {
      "text/plain": [
       "4789709.57"
      ]
     },
     "execution_count": 282,
     "metadata": {},
     "output_type": "execute_result"
    }
   ],
   "source": [
    "numbers_convert_range= numbers_convert_max - numbers_convert_min\n",
    "numbers_convert_range"
   ]
  },
  {
   "cell_type": "code",
   "execution_count": 220,
   "id": "0cc8e0c9",
   "metadata": {},
   "outputs": [
    {
     "data": {
      "text/plain": [
       "0        (-4511.11, 1197705.993]\n",
       "1        (-4511.11, 1197705.993]\n",
       "2        (-4511.11, 1197705.993]\n",
       "3      (3592560.778, 4789988.17]\n",
       "4     (1197705.993, 2395133.385]\n",
       "5     (1197705.993, 2395133.385]\n",
       "6        (-4511.11, 1197705.993]\n",
       "7     (1197705.993, 2395133.385]\n",
       "8      (3592560.778, 4789988.17]\n",
       "9     (2395133.385, 3592560.778]\n",
       "10       (-4511.11, 1197705.993]\n",
       "11     (3592560.778, 4789988.17]\n",
       "12     (3592560.778, 4789988.17]\n",
       "13    (2395133.385, 3592560.778]\n",
       "14    (1197705.993, 2395133.385]\n",
       "15     (3592560.778, 4789988.17]\n",
       "16     (3592560.778, 4789988.17]\n",
       "17    (2395133.385, 3592560.778]\n",
       "18       (-4511.11, 1197705.993]\n",
       "19       (-4511.11, 1197705.993]\n",
       "dtype: category\n",
       "Categories (4, interval[float64]): [(-4511.11, 1197705.993] < (1197705.993, 2395133.385] < (2395133.385, 3592560.778] < (3592560.778, 4789988.17]]"
      ]
     },
     "execution_count": 220,
     "metadata": {},
     "output_type": "execute_result"
    }
   ],
   "source": [
    "' 7. Bin the data into 4 equally sized intervals or bins and output how many values fall into each bin.'\n",
    "\n",
    "\n",
    "bins_val = pd.cut(numbers_convert,4)\n",
    "bins_val"
   ]
  },
  {
   "cell_type": "markdown",
   "id": "96e1f595",
   "metadata": {},
   "source": [
    "# 8. Plot the binned data in a meaningful way. Be sure to include a title and axis labels.\n",
    "\n"
   ]
  },
  {
   "cell_type": "code",
   "execution_count": 286,
   "id": "2eb2b0a4",
   "metadata": {
    "scrolled": true
   },
   "outputs": [
    {
     "data": {
      "image/png": "[encoded data removed]",
      "text/plain": [
       "<Figure size 432x288 with 1 Axes>"
      ]
     },
     "metadata": {
      "needs_background": "light"
     },
     "output_type": "display_data"
    }
   ],
   "source": [
    "plt.title('Number distributions')\n",
    "plt.hist(numbers_convert, bins = 4)\n",
    "plt.xlabel('Amount in 1000 dollars ')\n",
    "plt.ylabel('frequency')\n",
    "plt.show()\n",
    "\n"
   ]
  },
  {
   "cell_type": "code",
   "execution_count": 285,
   "id": "48864217",
   "metadata": {},
   "outputs": [
    {
     "data": {
      "text/plain": [
       "0      796459.41\n",
       "1         278.60\n",
       "2      482571.67\n",
       "3     4503915.98\n",
       "4     2121418.30\n",
       "5     1260813.30\n",
       "6       87231.01\n",
       "7     1509175.45\n",
       "8     4138548.00\n",
       "9     2848913.80\n",
       "10     594715.39\n",
       "11    4789988.17\n",
       "12    4513644.50\n",
       "13    3191059.97\n",
       "14    1758712.24\n",
       "15    4338283.54\n",
       "16    4738303.38\n",
       "17    2791759.67\n",
       "18     769681.94\n",
       "19     452650.23\n",
       "dtype: float64"
      ]
     },
     "execution_count": 285,
     "metadata": {},
     "output_type": "execute_result"
    }
   ],
   "source": [
    "numbers_convert"
   ]
  },
  {
   "cell_type": "markdown",
   "id": "ebabf898",
   "metadata": {},
   "source": [
    "# Use pandas to create a Series named exam_scores from the following list:"
   ]
  },
  {
   "cell_type": "code",
   "execution_count": 25,
   "id": "da5109b9",
   "metadata": {},
   "outputs": [
    {
     "data": {
      "text/plain": [
       "0     60\n",
       "1     86\n",
       "2     75\n",
       "3     62\n",
       "4     93\n",
       "5     71\n",
       "6     60\n",
       "7     83\n",
       "8     95\n",
       "9     78\n",
       "10    65\n",
       "11    72\n",
       "12    69\n",
       "13    81\n",
       "14    96\n",
       "15    80\n",
       "16    85\n",
       "17    92\n",
       "18    82\n",
       "19    78\n",
       "dtype: int64"
      ]
     },
     "execution_count": 25,
     "metadata": {},
     "output_type": "execute_result"
    }
   ],
   "source": [
    "exam_scores= [60, 86, 75, 62, 93, 71, 60, 83, 95, 78, 65, 72, 69, 81, 96, 80, 85, 92, 82, 78]\n",
    "exam_scores= pd.Series(exam_scores)\n",
    "exam_scores"
   ]
  },
  {
   "cell_type": "code",
   "execution_count": null,
   "id": "46b4c394",
   "metadata": {},
   "outputs": [],
   "source": [
    "''' 1.  How many elements are in the exam_scores Series?'''"
   ]
  },
  {
   "cell_type": "code",
   "execution_count": 287,
   "id": "2588a585",
   "metadata": {},
   "outputs": [
    {
     "data": {
      "text/plain": [
       "20"
      ]
     },
     "execution_count": 287,
     "metadata": {},
     "output_type": "execute_result"
    }
   ],
   "source": [
    "exam_scores.count()\n",
    "\n"
   ]
  },
  {
   "cell_type": "code",
   "execution_count": null,
   "id": "6567f916",
   "metadata": {},
   "outputs": [],
   "source": [
    "'''2. Run the code to discover the minimum, the maximum, the mean, and the median scores for the exam_scores Series.'''"
   ]
  },
  {
   "cell_type": "code",
   "execution_count": 288,
   "id": "e9a1cb89",
   "metadata": {},
   "outputs": [
    {
     "data": {
      "text/plain": [
       "count    20.000000\n",
       "mean     78.150000\n",
       "std      11.352139\n",
       "min      60.000000\n",
       "25%      70.500000\n",
       "50%      79.000000\n",
       "75%      85.250000\n",
       "max      96.000000\n",
       "dtype: float64"
      ]
     },
     "execution_count": 288,
     "metadata": {},
     "output_type": "execute_result"
    }
   ],
   "source": [
    "exam_scores.describe()"
   ]
  },
  {
   "cell_type": "code",
   "execution_count": 264,
   "id": "3a6e40b6",
   "metadata": {},
   "outputs": [
    {
     "data": {
      "text/plain": [
       "96"
      ]
     },
     "execution_count": 264,
     "metadata": {},
     "output_type": "execute_result"
    }
   ],
   "source": [
    "exam_scores.max()"
   ]
  },
  {
   "cell_type": "code",
   "execution_count": 265,
   "id": "c8d9e6c2",
   "metadata": {},
   "outputs": [
    {
     "data": {
      "text/plain": [
       "60"
      ]
     },
     "execution_count": 265,
     "metadata": {},
     "output_type": "execute_result"
    }
   ],
   "source": [
    "exam_scores.min()"
   ]
  },
  {
   "cell_type": "code",
   "execution_count": 266,
   "id": "bf3bb894",
   "metadata": {},
   "outputs": [
    {
     "data": {
      "text/plain": [
       "78.15"
      ]
     },
     "execution_count": 266,
     "metadata": {},
     "output_type": "execute_result"
    }
   ],
   "source": [
    "exam_scores.mean()"
   ]
  },
  {
   "cell_type": "code",
   "execution_count": 267,
   "id": "aaf599b6",
   "metadata": {},
   "outputs": [
    {
     "data": {
      "text/plain": [
       "79.0"
      ]
     },
     "execution_count": 267,
     "metadata": {},
     "output_type": "execute_result"
    }
   ],
   "source": [
    "exam_scores.median()"
   ]
  },
  {
   "cell_type": "code",
   "execution_count": null,
   "id": "9527de65",
   "metadata": {},
   "outputs": [],
   "source": [
    "''' 3. Plot the Series in a meaningful way and make sure your chart has a title and axis labels.'''\n"
   ]
  },
  {
   "cell_type": "code",
   "execution_count": 270,
   "id": "44d0251a",
   "metadata": {},
   "outputs": [
    {
     "data": {
      "image/png": "[encoded data removed]",
      "text/plain": [
       "<Figure size 432x288 with 1 Axes>"
      ]
     },
     "metadata": {
      "needs_background": "light"
     },
     "output_type": "display_data"
    }
   ],
   "source": [
    "\n",
    "\n",
    "plt.title('Exam Scores')\n",
    "plt.hist(exam_scores)\n",
    "plt.xlabel('scores')\n",
    "plt.show()"
   ]
  },
  {
   "cell_type": "code",
   "execution_count": null,
   "id": "cff10a55",
   "metadata": {},
   "outputs": [],
   "source": [
    "''' 4. Write the code necessary to implement a curve for your exam_grades Series and save this as curved_grades. Add the necessary points to the highest grade to make it 100, and add the same number of points to every other score in the Series as well.'''"
   ]
  },
  {
   "cell_type": "code",
   "execution_count": 26,
   "id": "7a1a810d",
   "metadata": {},
   "outputs": [
    {
     "data": {
      "text/plain": [
       "4"
      ]
     },
     "execution_count": 26,
     "metadata": {},
     "output_type": "execute_result"
    }
   ],
   "source": [
    "curve = 100 - exam_scores.max()\n",
    "curve\n",
    "\n"
   ]
  },
  {
   "cell_type": "code",
   "execution_count": 28,
   "id": "f1a03808",
   "metadata": {},
   "outputs": [
    {
     "data": {
      "text/plain": [
       "0      64\n",
       "1      90\n",
       "2      79\n",
       "3      66\n",
       "4      97\n",
       "5      75\n",
       "6      64\n",
       "7      87\n",
       "8      99\n",
       "9      82\n",
       "10     69\n",
       "11     76\n",
       "12     73\n",
       "13     85\n",
       "14    100\n",
       "15     84\n",
       "16     89\n",
       "17     96\n",
       "18     86\n",
       "19     82\n",
       "dtype: int64"
      ]
     },
     "execution_count": 28,
     "metadata": {},
     "output_type": "execute_result"
    }
   ],
   "source": [
    "curved_scores = exam_scores + curve\n",
    "curved_scores"
   ]
  },
  {
   "cell_type": "code",
   "execution_count": null,
   "id": "2a6d4409",
   "metadata": {},
   "outputs": [],
   "source": []
  },
  {
   "cell_type": "code",
   "execution_count": null,
   "id": "76af3e2b",
   "metadata": {},
   "outputs": [],
   "source": [
    "\n",
    "''' 5. Use a method to convert each of the numeric values in the curved_grades Series into a categorical value of letter grades. For example, 86 should be a 'B' and 95 should be an 'A'. Save this as a Series named letter_grades.\n",
    "'''"
   ]
  },
  {
   "cell_type": "code",
   "execution_count": 32,
   "id": "abe5ec03",
   "metadata": {},
   "outputs": [],
   "source": [
    "bin_edges = [0, 70, 75, 80, 90, 101]"
   ]
  },
  {
   "cell_type": "code",
   "execution_count": 33,
   "id": "e6b86bdb",
   "metadata": {},
   "outputs": [],
   "source": [
    "bin_labels = ['F', 'D', 'C', 'B', 'A']"
   ]
  },
  {
   "cell_type": "code",
   "execution_count": 34,
   "id": "8a944d65",
   "metadata": {},
   "outputs": [
    {
     "data": {
      "text/plain": [
       "0     F\n",
       "1     B\n",
       "2     C\n",
       "3     F\n",
       "4     A\n",
       "5     D\n",
       "6     F\n",
       "7     B\n",
       "8     A\n",
       "9     B\n",
       "10    F\n",
       "11    C\n",
       "12    D\n",
       "13    B\n",
       "14    A\n",
       "15    B\n",
       "16    B\n",
       "17    A\n",
       "18    B\n",
       "19    B\n",
       "dtype: category\n",
       "Categories (5, object): ['F' < 'D' < 'C' < 'B' < 'A']"
      ]
     },
     "execution_count": 34,
     "metadata": {},
     "output_type": "execute_result"
    }
   ],
   "source": [
    "letter_grades = pd.cut(curved_scores, bins=bin_edges, labels=bin_labels)\n",
    "letter_grades"
   ]
  },
  {
   "cell_type": "code",
   "execution_count": 35,
   "id": "619aa833",
   "metadata": {},
   "outputs": [
    {
     "data": {
      "image/png": "[encoded data removed]",
      "text/plain": [
       "<Figure size 432x288 with 1 Axes>"
      ]
     },
     "metadata": {
      "needs_background": "light"
     },
     "output_type": "display_data"
    }
   ],
   "source": [
    "''' 6. Plot your new categorical letter_grades Series in a meaninful way and include a title and axis labels.'''\n",
    "letter_grades.value_counts().sort_index().plot.barh(color='red', width=.5)\n",
    "\n",
    "plt.title('Letter Grades')\n",
    "plt.xlabel('Number of Students')\n",
    "plt.ylabel('Letter Grade')\n",
    "\n",
    "\n",
    "plt.show()"
   ]
  },
  {
   "cell_type": "code",
   "execution_count": null,
   "id": "4f2dad00",
   "metadata": {},
   "outputs": [],
   "source": []
  }
 ],
 "metadata": {
  "kernelspec": {
   "display_name": "Python 3",
   "language": "python",
   "name": "python3"
  },
  "language_info": {
   "codemirror_mode": {
    "name": "ipython",
    "version": 3
   },
   "file_extension": ".py",
   "mimetype": "text/x-python",
   "name": "python",
   "nbconvert_exporter": "python",
   "pygments_lexer": "ipython3",
   "version": "3.8.8"
  }
 },
 "nbformat": 4,
 "nbformat_minor": 5
}
