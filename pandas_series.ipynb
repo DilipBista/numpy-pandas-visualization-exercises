{
 "cells": [
  {
   "cell_type": "code",
   "execution_count": 1,
   "id": "a051c83a",
   "metadata": {},
   "outputs": [],
   "source": [
    "import numpy as np\n",
    "import pandas as pd\n",
    "import matplotlib.pyplot as plt"
   ]
  },
  {
   "cell_type": "markdown",
   "id": "8c72dc22",
   "metadata": {},
   "source": [
    "# Exercises Part I "
   ]
  },
  {
   "cell_type": "code",
   "execution_count": null,
   "id": "ff9ed7a6",
   "metadata": {},
   "outputs": [],
   "source": [
    "  [\"kiwi\", \"mango\", \"strawberry\", \"pineapple\", \"gala apple\", \"honeycrisp apple\", \"tomato\", \"watermelon\", \"honeydew\", \"kiwi\", \"kiwi\", \"kiwi\", \"mango\", \"blueberry\", \"blackberry\", \"gooseberry\", \"papaya\"]"
   ]
  },
  {
   "cell_type": "code",
   "execution_count": 70,
   "id": "0cee5726",
   "metadata": {},
   "outputs": [
    {
     "data": {
      "text/plain": [
       "0                 kiwi\n",
       "1                mango\n",
       "2           strawberry\n",
       "3            pineapple\n",
       "4           gala apple\n",
       "5     honeycrisp apple\n",
       "6               tomato\n",
       "7           watermelon\n",
       "8             honeydew\n",
       "9                 kiwi\n",
       "10                kiwi\n",
       "11                kiwi\n",
       "12               mango\n",
       "13           blueberry\n",
       "14          blackberry\n",
       "15          gooseberry\n",
       "16              papaya\n",
       "dtype: object"
      ]
     },
     "execution_count": 70,
     "metadata": {},
     "output_type": "execute_result"
    }
   ],
   "source": [
    "fruits =    [\"kiwi\", \"mango\", \"strawberry\", \"pineapple\", \"gala apple\", \"honeycrisp apple\", \"tomato\", \"watermelon\", \"honeydew\", \"kiwi\", \"kiwi\", \"kiwi\", \"mango\", \"blueberry\", \"blackberry\", \"gooseberry\", \"papaya\"]\n",
    "\n",
    "fruits_series = pd.Series(fruits)\n",
    "fruits_series"
   ]
  },
  {
   "cell_type": "code",
   "execution_count": null,
   "id": "01c5b3f9",
   "metadata": {},
   "outputs": [],
   "source": [
    "''' 1. Determine the number of elements in fruits. '''\n"
   ]
  },
  {
   "cell_type": "code",
   "execution_count": 77,
   "id": "41dcd472",
   "metadata": {},
   "outputs": [
    {
     "data": {
      "text/plain": [
       "17"
      ]
     },
     "execution_count": 77,
     "metadata": {},
     "output_type": "execute_result"
    }
   ],
   "source": [
    "fruits_series = pd.Series(fruits)\n",
    "fruits_series.size\n"
   ]
  },
  {
   "cell_type": "code",
   "execution_count": null,
   "id": "58886723",
   "metadata": {},
   "outputs": [],
   "source": [
    "'''2. Output only the index from fruits.'''\n",
    "\n",
    "\n"
   ]
  },
  {
   "cell_type": "code",
   "execution_count": 17,
   "id": "7f504ecf",
   "metadata": {},
   "outputs": [
    {
     "data": {
      "text/plain": [
       "RangeIndex(start=0, stop=17, step=1)"
      ]
     },
     "execution_count": 17,
     "metadata": {},
     "output_type": "execute_result"
    }
   ],
   "source": [
    "fruits_series.index"
   ]
  },
  {
   "cell_type": "code",
   "execution_count": 18,
   "id": "3061e7f8",
   "metadata": {},
   "outputs": [
    {
     "data": {
      "text/plain": [
       "array(['kiwi', 'mango', 'strawberry', 'pineapple', 'gala apple',\n",
       "       'honeycrisp apple', 'tomato', 'watermelon', 'honeydew', 'kiwi',\n",
       "       'kiwi', 'kiwi', 'mango', 'blueberry', 'blackberry', 'gooseberry',\n",
       "       'papaya'], dtype=object)"
      ]
     },
     "execution_count": 18,
     "metadata": {},
     "output_type": "execute_result"
    }
   ],
   "source": [
    "'''3. Output only the values from fruits.'''\n",
    "\n",
    "fruits_series.values"
   ]
  },
  {
   "cell_type": "code",
   "execution_count": null,
   "id": "827e0bc8",
   "metadata": {},
   "outputs": [],
   "source": [
    "''' 4. Confirm the data type of the values in fruits.'''"
   ]
  },
  {
   "cell_type": "code",
   "execution_count": 20,
   "id": "57b05782",
   "metadata": {},
   "outputs": [
    {
     "data": {
      "text/plain": [
       "dtype('O')"
      ]
     },
     "execution_count": 20,
     "metadata": {},
     "output_type": "execute_result"
    }
   ],
   "source": [
    "fruits_series.dtype"
   ]
  },
  {
   "cell_type": "code",
   "execution_count": null,
   "id": "34fa9ece",
   "metadata": {},
   "outputs": [],
   "source": [
    "\n",
    "''' 5. Determine the string value that occurs least frequently in fruits.'''"
   ]
  },
  {
   "cell_type": "code",
   "execution_count": 78,
   "id": "2c83eb22",
   "metadata": {},
   "outputs": [
    {
     "data": {
      "text/plain": [
       "blueberry           1\n",
       "tomato              1\n",
       "watermelon          1\n",
       "gala apple          1\n",
       "strawberry          1\n",
       "pineapple           1\n",
       "honeycrisp apple    1\n",
       "papaya              1\n",
       "blackberry          1\n",
       "honeydew            1\n",
       "gooseberry          1\n",
       "dtype: int64"
      ]
     },
     "execution_count": 78,
     "metadata": {},
     "output_type": "execute_result"
    }
   ],
   "source": [
    "fruits_series.value_counts().nsmallest(n=1, keep ='all')"
   ]
  },
  {
   "cell_type": "code",
   "execution_count": 22,
   "id": "e7c17a5d",
   "metadata": {},
   "outputs": [
    {
     "data": {
      "text/plain": [
       "kiwi                4\n",
       "mango               2\n",
       "blueberry           1\n",
       "tomato              1\n",
       "watermelon          1\n",
       "gala apple          1\n",
       "strawberry          1\n",
       "pineapple           1\n",
       "honeycrisp apple    1\n",
       "papaya              1\n",
       "blackberry          1\n",
       "honeydew            1\n",
       "gooseberry          1\n",
       "dtype: int64"
      ]
     },
     "execution_count": 22,
     "metadata": {},
     "output_type": "execute_result"
    }
   ],
   "source": [
    "least_fruits = fruits_series.value_counts()\n",
    "least_fruits"
   ]
  },
  {
   "cell_type": "code",
   "execution_count": null,
   "id": "0d99bbaa",
   "metadata": {},
   "outputs": [],
   "source": [
    "''' 6. Output only the first five values from fruits. Output the last three values. Output two random values from fruits.\n",
    "\n",
    "Run the .describe() on fruits to see what information it returns when called on a Series with string values.\n",
    "\n",
    "'''"
   ]
  },
  {
   "cell_type": "code",
   "execution_count": 34,
   "id": "207ef2bc",
   "metadata": {},
   "outputs": [
    {
     "name": "stdout",
     "output_type": "stream",
     "text": [
      "['kiwi' 'mango' 'strawberry' 'pineapple' 'gala apple']\n",
      "['blackberry' 'gooseberry' 'papaya']\n",
      "5     honeycrisp apple\n",
      "16              papaya\n",
      "dtype: object\n"
     ]
    },
    {
     "data": {
      "text/plain": [
       "count       17\n",
       "unique      13\n",
       "top       kiwi\n",
       "freq         4\n",
       "dtype: object"
      ]
     },
     "execution_count": 34,
     "metadata": {},
     "output_type": "execute_result"
    }
   ],
   "source": [
    "head_count= fruits_series.head()\n",
    "head_count\n",
    "first_five= head_count.values\n",
    "print(first_five)\n",
    "\n",
    "tail_count = fruits_series.tail(3)\n",
    "last_three = tail_count.values\n",
    "print(last_three)\n",
    "\n",
    "two_random= fruits_series.sample(2)\n",
    "print(two_random)\n",
    "\n",
    "fruits_series.describe()\n"
   ]
  },
  {
   "cell_type": "code",
   "execution_count": null,
   "id": "c7d8628f",
   "metadata": {},
   "outputs": [],
   "source": [
    "'''7. Run the code necessary to produce only the unique string values from fruits.'''"
   ]
  },
  {
   "cell_type": "code",
   "execution_count": 53,
   "id": "202fe078",
   "metadata": {},
   "outputs": [
    {
     "data": {
      "text/plain": [
       "array(['kiwi', 'mango', 'strawberry', 'pineapple', 'gala apple',\n",
       "       'honeycrisp apple', 'tomato', 'watermelon', 'honeydew',\n",
       "       'blueberry', 'blackberry', 'gooseberry', 'papaya'], dtype=object)"
      ]
     },
     "execution_count": 53,
     "metadata": {},
     "output_type": "execute_result"
    }
   ],
   "source": [
    "unique_string= fruits_series.unique()\n",
    "unique_string\n"
   ]
  },
  {
   "cell_type": "code",
   "execution_count": 61,
   "id": "2706f449",
   "metadata": {},
   "outputs": [
    {
     "data": {
      "text/plain": [
       "13"
      ]
     },
     "execution_count": 61,
     "metadata": {},
     "output_type": "execute_result"
    }
   ],
   "source": [
    "' count unique'\n",
    "fruits_series.nunique()"
   ]
  },
  {
   "cell_type": "code",
   "execution_count": null,
   "id": "e33ff03a",
   "metadata": {},
   "outputs": [],
   "source": [
    "''' 9. Determine how many times each unique string value occurs in fruits.'''"
   ]
  },
  {
   "cell_type": "code",
   "execution_count": 57,
   "id": "95403c0b",
   "metadata": {},
   "outputs": [
    {
     "data": {
      "text/plain": [
       "count       17\n",
       "unique      13\n",
       "top       kiwi\n",
       "freq         4\n",
       "dtype: object"
      ]
     },
     "execution_count": 57,
     "metadata": {},
     "output_type": "execute_result"
    }
   ],
   "source": [
    "\n",
    "fruits_series.sort_values()\n",
    "\n",
    "fruits_series.describe()\n",
    "\n"
   ]
  },
  {
   "cell_type": "code",
   "execution_count": null,
   "id": "4a0bec8a",
   "metadata": {},
   "outputs": [],
   "source": []
  },
  {
   "cell_type": "code",
   "execution_count": null,
   "id": "36a21420",
   "metadata": {},
   "outputs": [],
   "source": [
    "'''10. Determine the string value that occurs most frequently in fruits.'''"
   ]
  },
  {
   "cell_type": "code",
   "execution_count": 58,
   "id": "32595873",
   "metadata": {},
   "outputs": [
    {
     "data": {
      "text/plain": [
       "count       17\n",
       "unique      13\n",
       "top       kiwi\n",
       "freq         4\n",
       "dtype: object"
      ]
     },
     "execution_count": 58,
     "metadata": {},
     "output_type": "execute_result"
    }
   ],
   "source": [
    "fruits_series.describe()\n"
   ]
  },
  {
   "cell_type": "code",
   "execution_count": 63,
   "id": "440ba1c2",
   "metadata": {},
   "outputs": [
    {
     "data": {
      "text/plain": [
       "kiwi                4\n",
       "mango               2\n",
       "blueberry           1\n",
       "tomato              1\n",
       "watermelon          1\n",
       "gala apple          1\n",
       "strawberry          1\n",
       "pineapple           1\n",
       "honeycrisp apple    1\n",
       "papaya              1\n",
       "blackberry          1\n",
       "honeydew            1\n",
       "gooseberry          1\n",
       "dtype: int64"
      ]
     },
     "execution_count": 63,
     "metadata": {},
     "output_type": "execute_result"
    }
   ],
   "source": [
    "fruits_series.value_counts()"
   ]
  },
  {
   "cell_type": "code",
   "execution_count": 65,
   "id": "5e1eeabf",
   "metadata": {},
   "outputs": [
    {
     "data": {
      "text/plain": [
       "'kiwi'"
      ]
     },
     "execution_count": 65,
     "metadata": {},
     "output_type": "execute_result"
    }
   ],
   "source": [
    "fruits_series.value_counts().idxmax()"
   ]
  },
  {
   "cell_type": "code",
   "execution_count": 66,
   "id": "1c8ba5da",
   "metadata": {},
   "outputs": [
    {
     "data": {
      "text/plain": [
       "kiwi    4\n",
       "dtype: int64"
      ]
     },
     "execution_count": 66,
     "metadata": {},
     "output_type": "execute_result"
    }
   ],
   "source": [
    "fruits_series.value_counts().nlargest(n =1, keep = 'all') # read docs "
   ]
  },
  {
   "cell_type": "code",
   "execution_count": null,
   "id": "b060bb63",
   "metadata": {},
   "outputs": [],
   "source": [
    "''' Determine the string value that occurs least frequently in fruits.'''"
   ]
  },
  {
   "cell_type": "code",
   "execution_count": 67,
   "id": "d080e161",
   "metadata": {},
   "outputs": [
    {
     "data": {
      "text/plain": [
       "blueberry           1\n",
       "tomato              1\n",
       "watermelon          1\n",
       "gala apple          1\n",
       "strawberry          1\n",
       "pineapple           1\n",
       "honeycrisp apple    1\n",
       "papaya              1\n",
       "blackberry          1\n",
       "honeydew            1\n",
       "gooseberry          1\n",
       "dtype: int64"
      ]
     },
     "execution_count": 67,
     "metadata": {},
     "output_type": "execute_result"
    }
   ],
   "source": [
    "fruits_series.value_counts().nsmallest(n=1, keep ='all')"
   ]
  },
  {
   "cell_type": "markdown",
   "id": "e047af60",
   "metadata": {},
   "source": [
    "# Exercises Part II\n",
    "\n",
    "Explore more attributes and methods while you continue to work with the fruits Series."
   ]
  },
  {
   "cell_type": "code",
   "execution_count": 130,
   "id": "d2bbaf90",
   "metadata": {},
   "outputs": [
    {
     "data": {
      "text/plain": [
       "['kiwi',\n",
       " 'mango',\n",
       " 'strawberry',\n",
       " 'pineapple',\n",
       " 'gala apple',\n",
       " 'honeycrisp apple',\n",
       " 'tomato',\n",
       " 'watermelon',\n",
       " 'honeydew',\n",
       " 'kiwi',\n",
       " 'kiwi',\n",
       " 'kiwi',\n",
       " 'mango',\n",
       " 'blueberry',\n",
       " 'blackberry',\n",
       " 'gooseberry',\n",
       " 'papaya']"
      ]
     },
     "execution_count": 130,
     "metadata": {},
     "output_type": "execute_result"
    }
   ],
   "source": [
    "fruits =    [\"kiwi\", \"mango\", \"strawberry\", \"pineapple\", \"gala apple\", \"honeycrisp apple\", \"tomato\", \"watermelon\", \"honeydew\", \"kiwi\", \"kiwi\", \"kiwi\", \"mango\", \"blueberry\", \"blackberry\", \"gooseberry\", \"papaya\"]\n"
   ]
  },
  {
   "cell_type": "code",
   "execution_count": 139,
   "id": "f5b3d86a",
   "metadata": {},
   "outputs": [
    {
     "data": {
      "text/plain": [
       "0                 kiwi\n",
       "1                mango\n",
       "2           strawberry\n",
       "3            pineapple\n",
       "4           gala apple\n",
       "5     honeycrisp apple\n",
       "6               tomato\n",
       "7           watermelon\n",
       "8             honeydew\n",
       "9                 kiwi\n",
       "10                kiwi\n",
       "11                kiwi\n",
       "12               mango\n",
       "13           blueberry\n",
       "14          blackberry\n",
       "15          gooseberry\n",
       "16              papaya\n",
       "dtype: object"
      ]
     },
     "execution_count": 139,
     "metadata": {},
     "output_type": "execute_result"
    }
   ],
   "source": [
    "fruits= pd.Series(fruits)\n",
    "fruits"
   ]
  },
  {
   "cell_type": "code",
   "execution_count": 79,
   "id": "84d73f1b",
   "metadata": {},
   "outputs": [
    {
     "data": {
      "text/plain": [
       "0                 KIWI\n",
       "1                MANGO\n",
       "2           STRAWBERRY\n",
       "3            PINEAPPLE\n",
       "4           GALA APPLE\n",
       "5     HONEYCRISP APPLE\n",
       "6               TOMATO\n",
       "7           WATERMELON\n",
       "8             HONEYDEW\n",
       "9                 KIWI\n",
       "10                KIWI\n",
       "11                KIWI\n",
       "12               MANGO\n",
       "13           BLUEBERRY\n",
       "14          BLACKBERRY\n",
       "15          GOOSEBERRY\n",
       "16              PAPAYA\n",
       "dtype: object"
      ]
     },
     "execution_count": 79,
     "metadata": {},
     "output_type": "execute_result"
    }
   ],
   "source": [
    "''' 1. Capitalize all the string values in fruits.'''\n",
    "\n",
    "fruits_series.str.upper()\n"
   ]
  },
  {
   "cell_type": "code",
   "execution_count": 83,
   "id": "00e66296",
   "metadata": {},
   "outputs": [
    {
     "data": {
      "text/plain": [
       "0     0\n",
       "1     1\n",
       "2     1\n",
       "3     1\n",
       "4     3\n",
       "5     1\n",
       "6     1\n",
       "7     1\n",
       "8     0\n",
       "9     0\n",
       "10    0\n",
       "11    0\n",
       "12    1\n",
       "13    0\n",
       "14    1\n",
       "15    0\n",
       "16    3\n",
       "dtype: int64"
      ]
     },
     "execution_count": 83,
     "metadata": {},
     "output_type": "execute_result"
    }
   ],
   "source": [
    "\n",
    "''' 2. Count the letter \"a\" in all the string values (use string vectorization).'''\n",
    "\n",
    "fruits_series.str.count('a')"
   ]
  },
  {
   "cell_type": "code",
   "execution_count": null,
   "id": "50282bfd",
   "metadata": {},
   "outputs": [],
   "source": [
    "''' 3. Output the number of vowels in each and every string value.'''"
   ]
  },
  {
   "cell_type": "code",
   "execution_count": 140,
   "id": "0d400fe1",
   "metadata": {},
   "outputs": [
    {
     "data": {
      "text/plain": [
       "0     2\n",
       "1     2\n",
       "2     2\n",
       "3     4\n",
       "4     4\n",
       "5     5\n",
       "6     3\n",
       "7     4\n",
       "8     3\n",
       "9     2\n",
       "10    2\n",
       "11    2\n",
       "12    2\n",
       "13    3\n",
       "14    2\n",
       "15    4\n",
       "16    3\n",
       "dtype: int64"
      ]
     },
     "execution_count": 140,
     "metadata": {},
     "output_type": "execute_result"
    }
   ],
   "source": [
    "\n",
    "def contains_vowels(fruits):\n",
    "    num_vowels = 0\n",
    "    for alpha in fruits:\n",
    "        if alpha in \"aeiouAEIOU\":\n",
    "            num_vowels= num_vowels+1\n",
    "    return num_vowels\n",
    "fruits.apply(contains_vowels)  "
   ]
  },
  {
   "cell_type": "code",
   "execution_count": null,
   "id": "e343af1b",
   "metadata": {},
   "outputs": [],
   "source": [
    "''' 4. Write the code to get the longest string value from fruits.'''\n"
   ]
  },
  {
   "cell_type": "code",
   "execution_count": 152,
   "id": "2b0bfd3d",
   "metadata": {},
   "outputs": [
    {
     "data": {
      "text/plain": [
       "'honeycrisp apple'"
      ]
     },
     "execution_count": 152,
     "metadata": {},
     "output_type": "execute_result"
    }
   ],
   "source": [
    "longest_string = fruits.apply(len).idxmax()\n",
    "fruits[longest_string]"
   ]
  },
  {
   "cell_type": "code",
   "execution_count": null,
   "id": "2e7cea86",
   "metadata": {},
   "outputs": [],
   "source": [
    "''' 5. Write the code to get the string values with 5 or more letters in the name.'''\n",
    "\n"
   ]
  },
  {
   "cell_type": "code",
   "execution_count": 144,
   "id": "3035c17a",
   "metadata": {},
   "outputs": [
    {
     "data": {
      "text/plain": [
       "1                mango\n",
       "2           strawberry\n",
       "3            pineapple\n",
       "4           gala apple\n",
       "5     honeycrisp apple\n",
       "6               tomato\n",
       "7           watermelon\n",
       "8             honeydew\n",
       "12               mango\n",
       "13           blueberry\n",
       "14          blackberry\n",
       "15          gooseberry\n",
       "16              papaya\n",
       "dtype: object"
      ]
     },
     "execution_count": 144,
     "metadata": {},
     "output_type": "execute_result"
    }
   ],
   "source": [
    "fruits[fruits.apply(len) >= 5]"
   ]
  },
  {
   "cell_type": "code",
   "execution_count": null,
   "id": "5bd17f63",
   "metadata": {},
   "outputs": [],
   "source": [
    "''' 6. Use the .apply method with a lambda function to find the fruit(s) containing the letter \"o\" two or more times.'''\n",
    "\n"
   ]
  },
  {
   "cell_type": "code",
   "execution_count": 154,
   "id": "3cf45b46",
   "metadata": {},
   "outputs": [
    {
     "data": {
      "text/plain": [
       "6         tomato\n",
       "15    gooseberry\n",
       "dtype: object"
      ]
     },
     "execution_count": 154,
     "metadata": {},
     "output_type": "execute_result"
    }
   ],
   "source": [
    "fruits[fruits.apply(lambda fruit: fruit.count('o') > 1)]"
   ]
  },
  {
   "cell_type": "code",
   "execution_count": null,
   "id": "93a7496a",
   "metadata": {},
   "outputs": [],
   "source": [
    "''' 7. Write the code to get only the string values containing the substring \"berry\".'''"
   ]
  },
  {
   "cell_type": "code",
   "execution_count": 146,
   "id": "6b3c347c",
   "metadata": {},
   "outputs": [
    {
     "data": {
      "text/plain": [
       "2     strawberry\n",
       "13     blueberry\n",
       "14    blackberry\n",
       "15    gooseberry\n",
       "dtype: object"
      ]
     },
     "execution_count": 146,
     "metadata": {},
     "output_type": "execute_result"
    }
   ],
   "source": [
    "fruits[fruits.str.contains('berry')]"
   ]
  },
  {
   "cell_type": "code",
   "execution_count": null,
   "id": "9bb0ff13",
   "metadata": {},
   "outputs": [],
   "source": [
    "''' 8. Write the code to get only the string values containing the substring \"apple\".'''\n"
   ]
  },
  {
   "cell_type": "code",
   "execution_count": 147,
   "id": "4e7c9522",
   "metadata": {},
   "outputs": [
    {
     "data": {
      "text/plain": [
       "3           pineapple\n",
       "4          gala apple\n",
       "5    honeycrisp apple\n",
       "dtype: object"
      ]
     },
     "execution_count": 147,
     "metadata": {},
     "output_type": "execute_result"
    }
   ],
   "source": [
    "fruits[fruits.str.contains('apple')]"
   ]
  },
  {
   "cell_type": "code",
   "execution_count": null,
   "id": "fc14096b",
   "metadata": {},
   "outputs": [],
   "source": [
    "\n",
    "''' 9. Which string value contains the most vowels?'''"
   ]
  },
  {
   "cell_type": "code",
   "execution_count": 149,
   "id": "54d1ca7c",
   "metadata": {},
   "outputs": [
    {
     "data": {
      "text/plain": [
       "'honeycrisp apple'"
      ]
     },
     "execution_count": 149,
     "metadata": {},
     "output_type": "execute_result"
    }
   ],
   "source": [
    "fruits[fruits.apply(contains_vowels).idxmax()]"
   ]
  },
  {
   "cell_type": "markdown",
   "id": "ffa4ab36",
   "metadata": {},
   "source": [
    "# Exercise III\n"
   ]
  },
  {
   "cell_type": "code",
   "execution_count": null,
   "id": "7e9ddc05",
   "metadata": {},
   "outputs": [],
   "source": [
    "#Use pandas to create a Series named letters from the following string:\n",
    "\n"
   ]
  },
  {
   "cell_type": "code",
   "execution_count": 156,
   "id": "5c080347",
   "metadata": {},
   "outputs": [
    {
     "data": {
      "text/plain": [
       "0    hnvidduckkqxwymbimkccexbkmqygkxoyndmcxnwqarhyf...\n",
       "dtype: object"
      ]
     },
     "execution_count": 156,
     "metadata": {},
     "output_type": "execute_result"
    }
   ],
   "source": [
    "letters =  ['hnvidduckkqxwymbimkccexbkmqygkxoyndmcxnwqarhyffsjpsrabtjzsypmzadfavyrnndndvswreauxovncxtwzpwejilzjrmmbbgbyxvjtewqthafnbkqplarokkyydtubbmnexoypulzwfhqvckdpqtpoppzqrmcvhhpwgjwupgzhiofohawytlsiyecuproguy']\n",
    "letters = pd.Series(letters)\n",
    "letters\n"
   ]
  },
  {
   "cell_type": "code",
   "execution_count": 157,
   "id": "9ef10398",
   "metadata": {},
   "outputs": [
    {
     "data": {
      "text/plain": [
       "dtype('O')"
      ]
     },
     "execution_count": 157,
     "metadata": {},
     "output_type": "execute_result"
    }
   ],
   "source": [
    "' 1. Which letter occurs the most frequently in the letters Series?'\n",
    "\n"
   ]
  },
  {
   "cell_type": "code",
   "execution_count": 158,
   "id": "c93eb93b",
   "metadata": {},
   "outputs": [
    {
     "data": {
      "text/plain": [
       "1"
      ]
     },
     "execution_count": 158,
     "metadata": {},
     "output_type": "execute_result"
    }
   ],
   "source": [
    "\n",
    "'2. Which letter occurs the Least frequently? ?'\n",
    "\n",
    "letters.count()"
   ]
  },
  {
   "cell_type": "code",
   "execution_count": null,
   "id": "52ac8f23",
   "metadata": {},
   "outputs": [],
   "source": [
    "' 3. How many vowels are in the Series?'\n",
    "\n"
   ]
  },
  {
   "cell_type": "code",
   "execution_count": null,
   "id": "14170944",
   "metadata": {},
   "outputs": [],
   "source": [
    "' 4. How many consonants are in the Series?'\n",
    "\n",
    "\n",
    "\n",
    "\n"
   ]
  },
  {
   "cell_type": "code",
   "execution_count": null,
   "id": "ab7b4d0c",
   "metadata": {},
   "outputs": [],
   "source": [
    "' 5. Create a Series that has all of the same letters but uppercased.'"
   ]
  },
  {
   "cell_type": "code",
   "execution_count": null,
   "id": "f4d6a869",
   "metadata": {},
   "outputs": [],
   "source": [
    "' 6. Create a bar plot of the frequencies of the 6 most commonly occuring letters.?'\n",
    "\n",
    "\n"
   ]
  },
  {
   "cell_type": "markdown",
   "id": "c9b6a6fd",
   "metadata": {},
   "source": [
    "# Use pandas to create a Series named numbers from the following list:"
   ]
  },
  {
   "cell_type": "code",
   "execution_count": null,
   "id": "a27f9265",
   "metadata": {},
   "outputs": [],
   "source": [
    "  ['$796,459.41', '$278.60', '$482,571.67', '$4,503,915.98', '$2,121,418.3', '$1,260,813.3', '$87,231.01', '$1,509,175.45', '$4,138,548.00', '$2,848,913.80', '$594,715.39', '$4,789,988.17', '$4,513,644.5', '$3,191,059.97', '$1,758,712.24', '$4,338,283.54', '$4,738,303.38', '$2,791,759.67', '$769,681.94', '$452,650.23']"
   ]
  },
  {
   "cell_type": "code",
   "execution_count": null,
   "id": "b270cbb5",
   "metadata": {},
   "outputs": [],
   "source": [
    "'1. What is the data type of the numbers Series?'\n",
    "\n"
   ]
  },
  {
   "cell_type": "code",
   "execution_count": null,
   "id": "53e5cc2a",
   "metadata": {},
   "outputs": [],
   "source": [
    "'2. How many elements are in the number Series?'\n",
    "\n"
   ]
  },
  {
   "cell_type": "code",
   "execution_count": null,
   "id": "55f6f395",
   "metadata": {},
   "outputs": [],
   "source": [
    "' 3. Perform the necessary manipulations by accessing Series attributes and methods to convert the numbers Series to a numeric data type.'\n",
    "\n"
   ]
  },
  {
   "cell_type": "code",
   "execution_count": null,
   "id": "bcdd25cd",
   "metadata": {},
   "outputs": [],
   "source": [
    "' 4. Run the code to discover the maximum value from the Series.'\n",
    "\n"
   ]
  },
  {
   "cell_type": "code",
   "execution_count": null,
   "id": "85d5799c",
   "metadata": {},
   "outputs": [],
   "source": [
    "' 5. Run the code to discover the minimum value from the Series.'\n",
    "\n"
   ]
  },
  {
   "cell_type": "code",
   "execution_count": null,
   "id": "186e31f2",
   "metadata": {},
   "outputs": [],
   "source": [
    "' 6. pWhat is the range of the values in the Series?'"
   ]
  },
  {
   "cell_type": "code",
   "execution_count": null,
   "id": "a0cf3c53",
   "metadata": {},
   "outputs": [],
   "source": [
    "' 7. Bin the data into 4 equally sized intervals or bins and output how many values fall into each bin.'\n",
    "\n",
    "\n"
   ]
  },
  {
   "cell_type": "code",
   "execution_count": null,
   "id": "6f33c1b9",
   "metadata": {},
   "outputs": [],
   "source": [
    "' 8. Plot the binned data in a meaningful way. Be sure to include a title and axis labels.\n",
    "'\n"
   ]
  },
  {
   "cell_type": "code",
   "execution_count": null,
   "id": "ed7f0eba",
   "metadata": {},
   "outputs": [],
   "source": [
    "\n",
    "\n"
   ]
  },
  {
   "cell_type": "code",
   "execution_count": null,
   "id": "e903d64b",
   "metadata": {},
   "outputs": [],
   "source": []
  },
  {
   "cell_type": "code",
   "execution_count": null,
   "id": "f866c37b",
   "metadata": {},
   "outputs": [],
   "source": []
  },
  {
   "cell_type": "code",
   "execution_count": null,
   "id": "1acea62c",
   "metadata": {},
   "outputs": [],
   "source": []
  }
 ],
 "metadata": {
  "kernelspec": {
   "display_name": "Python 3",
   "language": "python",
   "name": "python3"
  },
  "language_info": {
   "codemirror_mode": {
    "name": "ipython",
    "version": 3
   },
   "file_extension": ".py",
   "mimetype": "text/x-python",
   "name": "python",
   "nbconvert_exporter": "python",
   "pygments_lexer": "ipython3",
   "version": "3.8.8"
  }
 },
 "nbformat": 4,
 "nbformat_minor": 5
}
